{
 "cells": [
  {
   "cell_type": "code",
   "execution_count": 14,
   "metadata": {},
   "outputs": [],
   "source": [
    "import pandas as pd\n",
    "import matplotlib.pyplot as plt\n",
    "import matplotlib as mpl\n",
    "import seaborn as sns\n",
    "\n",
    "mpl.rc(\"font\", family=\"Malgun Gothic\")"
   ]
  },
  {
   "cell_type": "code",
   "execution_count": 41,
   "metadata": {},
   "outputs": [
    {
     "data": {
      "text/html": [
       "<div>\n",
       "<style scoped>\n",
       "    .dataframe tbody tr th:only-of-type {\n",
       "        vertical-align: middle;\n",
       "    }\n",
       "\n",
       "    .dataframe tbody tr th {\n",
       "        vertical-align: top;\n",
       "    }\n",
       "\n",
       "    .dataframe thead th {\n",
       "        text-align: right;\n",
       "    }\n",
       "</style>\n",
       "<table border=\"1\" class=\"dataframe\">\n",
       "  <thead>\n",
       "    <tr style=\"text-align: right;\">\n",
       "      <th></th>\n",
       "      <th>Country</th>\n",
       "      <th>Year</th>\n",
       "      <th>Disease Name</th>\n",
       "      <th>Disease Category</th>\n",
       "      <th>Prevalence Rate (%)</th>\n",
       "      <th>Incidence Rate (%)</th>\n",
       "      <th>Mortality Rate (%)</th>\n",
       "      <th>Age Group</th>\n",
       "      <th>Gender</th>\n",
       "      <th>Population Affected</th>\n",
       "      <th>...</th>\n",
       "      <th>Hospital Beds per 1000</th>\n",
       "      <th>Treatment Type</th>\n",
       "      <th>Average Treatment Cost (USD)</th>\n",
       "      <th>Availability of Vaccines/Treatment</th>\n",
       "      <th>Recovery Rate (%)</th>\n",
       "      <th>DALYs</th>\n",
       "      <th>Improvement in 5 Years (%)</th>\n",
       "      <th>Per Capita Income (USD)</th>\n",
       "      <th>Education Index</th>\n",
       "      <th>Urbanization Rate (%)</th>\n",
       "    </tr>\n",
       "  </thead>\n",
       "  <tbody>\n",
       "    <tr>\n",
       "      <th>0</th>\n",
       "      <td>Italy</td>\n",
       "      <td>2013</td>\n",
       "      <td>Malaria</td>\n",
       "      <td>Respiratory</td>\n",
       "      <td>0.95</td>\n",
       "      <td>1.55</td>\n",
       "      <td>8.42</td>\n",
       "      <td>0-18</td>\n",
       "      <td>Male</td>\n",
       "      <td>471007</td>\n",
       "      <td>...</td>\n",
       "      <td>7.58</td>\n",
       "      <td>Medication</td>\n",
       "      <td>21064</td>\n",
       "      <td>No</td>\n",
       "      <td>91.82</td>\n",
       "      <td>4493</td>\n",
       "      <td>2.16</td>\n",
       "      <td>16886</td>\n",
       "      <td>0.79</td>\n",
       "      <td>86.02</td>\n",
       "    </tr>\n",
       "    <tr>\n",
       "      <th>1</th>\n",
       "      <td>France</td>\n",
       "      <td>2002</td>\n",
       "      <td>Ebola</td>\n",
       "      <td>Parasitic</td>\n",
       "      <td>12.46</td>\n",
       "      <td>8.63</td>\n",
       "      <td>8.75</td>\n",
       "      <td>61+</td>\n",
       "      <td>Male</td>\n",
       "      <td>634318</td>\n",
       "      <td>...</td>\n",
       "      <td>5.11</td>\n",
       "      <td>Surgery</td>\n",
       "      <td>47851</td>\n",
       "      <td>Yes</td>\n",
       "      <td>76.65</td>\n",
       "      <td>2366</td>\n",
       "      <td>4.82</td>\n",
       "      <td>80639</td>\n",
       "      <td>0.74</td>\n",
       "      <td>45.52</td>\n",
       "    </tr>\n",
       "    <tr>\n",
       "      <th>2</th>\n",
       "      <td>Turkey</td>\n",
       "      <td>2015</td>\n",
       "      <td>COVID-19</td>\n",
       "      <td>Genetic</td>\n",
       "      <td>0.91</td>\n",
       "      <td>2.35</td>\n",
       "      <td>6.22</td>\n",
       "      <td>36-60</td>\n",
       "      <td>Male</td>\n",
       "      <td>154878</td>\n",
       "      <td>...</td>\n",
       "      <td>3.49</td>\n",
       "      <td>Vaccination</td>\n",
       "      <td>27834</td>\n",
       "      <td>Yes</td>\n",
       "      <td>98.55</td>\n",
       "      <td>41</td>\n",
       "      <td>5.81</td>\n",
       "      <td>12245</td>\n",
       "      <td>0.41</td>\n",
       "      <td>40.20</td>\n",
       "    </tr>\n",
       "    <tr>\n",
       "      <th>3</th>\n",
       "      <td>Indonesia</td>\n",
       "      <td>2011</td>\n",
       "      <td>Parkinson's Disease</td>\n",
       "      <td>Autoimmune</td>\n",
       "      <td>4.68</td>\n",
       "      <td>6.29</td>\n",
       "      <td>3.99</td>\n",
       "      <td>0-18</td>\n",
       "      <td>Other</td>\n",
       "      <td>446224</td>\n",
       "      <td>...</td>\n",
       "      <td>8.44</td>\n",
       "      <td>Surgery</td>\n",
       "      <td>144</td>\n",
       "      <td>Yes</td>\n",
       "      <td>67.35</td>\n",
       "      <td>3201</td>\n",
       "      <td>2.22</td>\n",
       "      <td>49336</td>\n",
       "      <td>0.49</td>\n",
       "      <td>58.47</td>\n",
       "    </tr>\n",
       "    <tr>\n",
       "      <th>4</th>\n",
       "      <td>Italy</td>\n",
       "      <td>2013</td>\n",
       "      <td>Tuberculosis</td>\n",
       "      <td>Genetic</td>\n",
       "      <td>0.83</td>\n",
       "      <td>13.59</td>\n",
       "      <td>7.01</td>\n",
       "      <td>61+</td>\n",
       "      <td>Male</td>\n",
       "      <td>472908</td>\n",
       "      <td>...</td>\n",
       "      <td>5.90</td>\n",
       "      <td>Medication</td>\n",
       "      <td>8908</td>\n",
       "      <td>Yes</td>\n",
       "      <td>50.06</td>\n",
       "      <td>2832</td>\n",
       "      <td>6.93</td>\n",
       "      <td>47701</td>\n",
       "      <td>0.50</td>\n",
       "      <td>48.14</td>\n",
       "    </tr>\n",
       "  </tbody>\n",
       "</table>\n",
       "<p>5 rows × 22 columns</p>\n",
       "</div>"
      ],
      "text/plain": [
       "     Country  Year         Disease Name Disease Category  Prevalence Rate (%)  \\\n",
       "0      Italy  2013              Malaria      Respiratory                 0.95   \n",
       "1     France  2002                Ebola        Parasitic                12.46   \n",
       "2     Turkey  2015             COVID-19          Genetic                 0.91   \n",
       "3  Indonesia  2011  Parkinson's Disease       Autoimmune                 4.68   \n",
       "4      Italy  2013         Tuberculosis          Genetic                 0.83   \n",
       "\n",
       "   Incidence Rate (%)  Mortality Rate (%) Age Group Gender  \\\n",
       "0                1.55                8.42      0-18   Male   \n",
       "1                8.63                8.75       61+   Male   \n",
       "2                2.35                6.22     36-60   Male   \n",
       "3                6.29                3.99      0-18  Other   \n",
       "4               13.59                7.01       61+   Male   \n",
       "\n",
       "   Population Affected  ...  Hospital Beds per 1000  Treatment Type  \\\n",
       "0               471007  ...                    7.58      Medication   \n",
       "1               634318  ...                    5.11         Surgery   \n",
       "2               154878  ...                    3.49     Vaccination   \n",
       "3               446224  ...                    8.44         Surgery   \n",
       "4               472908  ...                    5.90      Medication   \n",
       "\n",
       "   Average Treatment Cost (USD) Availability of Vaccines/Treatment  \\\n",
       "0                         21064                                 No   \n",
       "1                         47851                                Yes   \n",
       "2                         27834                                Yes   \n",
       "3                           144                                Yes   \n",
       "4                          8908                                Yes   \n",
       "\n",
       "   Recovery Rate (%) DALYs  Improvement in 5 Years (%)  \\\n",
       "0              91.82  4493                        2.16   \n",
       "1              76.65  2366                        4.82   \n",
       "2              98.55    41                        5.81   \n",
       "3              67.35  3201                        2.22   \n",
       "4              50.06  2832                        6.93   \n",
       "\n",
       "   Per Capita Income (USD)  Education Index  Urbanization Rate (%)  \n",
       "0                    16886             0.79                  86.02  \n",
       "1                    80639             0.74                  45.52  \n",
       "2                    12245             0.41                  40.20  \n",
       "3                    49336             0.49                  58.47  \n",
       "4                    47701             0.50                  48.14  \n",
       "\n",
       "[5 rows x 22 columns]"
      ]
     },
     "execution_count": 41,
     "metadata": {},
     "output_type": "execute_result"
    }
   ],
   "source": [
    "df = pd.read_csv(\"Global Health Statistics.csv\")\n",
    "df.head()"
   ]
  },
  {
   "cell_type": "code",
   "execution_count": 49,
   "metadata": {},
   "outputs": [
    {
     "data": {
      "text/plain": [
       "0                Italy\n",
       "1               France\n",
       "2               Turkey\n",
       "3            Indonesia\n",
       "4                Italy\n",
       "              ...     \n",
       "999995    Saudi Arabia\n",
       "999996    Saudi Arabia\n",
       "999997             USA\n",
       "999998         Nigeria\n",
       "999999       Indonesia\n",
       "Name: Country, Length: 1000000, dtype: object"
      ]
     },
     "execution_count": 49,
     "metadata": {},
     "output_type": "execute_result"
    }
   ],
   "source": [
    "# df.info()\n",
    "df['Country']"
   ]
  },
  {
   "cell_type": "code",
   "execution_count": 50,
   "metadata": {},
   "outputs": [
    {
     "data": {
      "text/plain": [
       "Country                               0\n",
       "Year                                  0\n",
       "Disease Name                          0\n",
       "Disease Category                      0\n",
       "Prevalence Rate (%)                   0\n",
       "Incidence Rate (%)                    0\n",
       "Mortality Rate (%)                    0\n",
       "Age Group                             0\n",
       "Gender                                0\n",
       "Population Affected                   0\n",
       "Healthcare Access (%)                 0\n",
       "Doctors per 1000                      0\n",
       "Hospital Beds per 1000                0\n",
       "Treatment Type                        0\n",
       "Average Treatment Cost (USD)          0\n",
       "Availability of Vaccines/Treatment    0\n",
       "Recovery Rate (%)                     0\n",
       "DALYs                                 0\n",
       "Improvement in 5 Years (%)            0\n",
       "Per Capita Income (USD)               0\n",
       "Education Index                       0\n",
       "Urbanization Rate (%)                 0\n",
       "dtype: int64"
      ]
     },
     "execution_count": 50,
     "metadata": {},
     "output_type": "execute_result"
    }
   ],
   "source": [
    "# 열마다 발생한 결측치 개수 출력\n",
    "df.isnull().sum()"
   ]
  },
  {
   "cell_type": "code",
   "execution_count": 37,
   "metadata": {},
   "outputs": [
    {
     "data": {
      "text/plain": [
       "<Axes: >"
      ]
     },
     "execution_count": 37,
     "metadata": {},
     "output_type": "execute_result"
    },
    {
     "data": {
      "text/plain": [
       "Text(0.5, 1.0, 'Correlation Heatmap')"
      ]
     },
     "execution_count": 37,
     "metadata": {},
     "output_type": "execute_result"
    },
    {
     "data": {
      "image/png": "[encoded data removed]",
      "text/plain": [
       "<Figure size 640x480 with 2 Axes>"
      ]
     },
     "metadata": {},
     "output_type": "display_data"
    }
   ],
   "source": [
    "correlation_matrix = df[['Likes', 'Shares', 'Comments', 'Clicks', 'Engagement_with_Ads', 'Time_Spent_on_Platform']].corr()\n",
    "sns.heatmap(correlation_matrix, annot=True, cmap='coolwarm', fmt='.2f')\n",
    "plt.title('Correlation Heatmap')\n",
    "plt.show()"
   ]
  },
  {
   "cell_type": "code",
   "execution_count": 40,
   "metadata": {},
   "outputs": [
    {
     "data": {
      "text/plain": [
       "<Axes: xlabel='Likes'>"
      ]
     },
     "execution_count": 40,
     "metadata": {},
     "output_type": "execute_result"
    },
    {
     "data": {
      "text/plain": [
       "Text(0.5, 1.0, 'Boxplot of Likes')"
      ]
     },
     "execution_count": 40,
     "metadata": {},
     "output_type": "execute_result"
    },
    {
     "data": {
      "text/plain": [
       "Text(0.5, 0, 'Likes')"
      ]
     },
     "execution_count": 40,
     "metadata": {},
     "output_type": "execute_result"
    },
    {
     "data": {
      "image/png": "[encoded data removed]",
      "text/plain": [
       "<Figure size 640x480 with 1 Axes>"
      ]
     },
     "metadata": {},
     "output_type": "display_data"
    }
   ],
   "source": [
    "sns.boxplot(x=df['Likes'])\n",
    "plt.title('Boxplot of Likes')\n",
    "plt.xlabel('Likes')\n",
    "plt.show()\n"
   ]
  }
 ],
 "metadata": {
  "kernelspec": {
   "display_name": "Python 3",
   "language": "python",
   "name": "python3"
  },
  "language_info": {
   "codemirror_mode": {
    "name": "ipython",
    "version": 3
   },
   "file_extension": ".py",
   "mimetype": "text/x-python",
   "name": "python",
   "nbconvert_exporter": "python",
   "pygments_lexer": "ipython3",
   "version": "3.12.8"
  }
 },
 "nbformat": 4,
 "nbformat_minor": 2
}
