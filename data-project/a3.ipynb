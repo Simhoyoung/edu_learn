{
 "cells": [
  {
   "cell_type": "code",
   "execution_count": 346,
   "metadata": {},
   "outputs": [],
   "source": [
    "import pandas as pd\n",
    "import matplotlib.pyplot as plt\n",
    "import matplotlib as mpl\n",
    "import seaborn as sns\n",
    "\n",
    "# mpl.rc(\"font\", family=\"Malgun Gothic\")\n",
    "plt.rcParams[\"font.family\"] = \"Malgun Gothic\"\n",
    "plt.rcParams[\"axes.unicode_minus\"] = False"
   ]
  },
  {
   "cell_type": "code",
   "execution_count": 347,
   "metadata": {},
   "outputs": [
    {
     "name": "stdout",
     "output_type": "stream",
     "text": [
      "<class 'pandas.core.frame.DataFrame'>\n",
      "RangeIndex: 1000 entries, 0 to 999\n",
      "Data columns (total 8 columns):\n",
      " #   Column                   Non-Null Count  Dtype  \n",
      "---  ------                   --------------  -----  \n",
      " 0   gender                   1000 non-null   int64  \n",
      " 1   lunch                    1000 non-null   int64  \n",
      " 2   test_preparation_course  1000 non-null   int64  \n",
      " 3   math_score               1000 non-null   int64  \n",
      " 4   reading_score            1000 non-null   int64  \n",
      " 5   writing_score            1000 non-null   int64  \n",
      " 6   total_score              1000 non-null   int64  \n",
      " 7   average_score            1000 non-null   float64\n",
      "dtypes: float64(1), int64(7)\n",
      "memory usage: 62.6 KB\n"
     ]
    }
   ],
   "source": [
    "df = pd.read_csv(\"Cleaned_Students_Performance.csv\")\n",
    "numeric_df = df.select_dtypes([\"float64\", \"int64\"])\n",
    "numeric_df.info()"
   ]
  },
  {
   "cell_type": "code",
   "execution_count": 348,
   "metadata": {},
   "outputs": [
    {
     "data": {
      "text/html": [
       "<div>\n",
       "<style scoped>\n",
       "    .dataframe tbody tr th:only-of-type {\n",
       "        vertical-align: middle;\n",
       "    }\n",
       "\n",
       "    .dataframe tbody tr th {\n",
       "        vertical-align: top;\n",
       "    }\n",
       "\n",
       "    .dataframe thead th {\n",
       "        text-align: right;\n",
       "    }\n",
       "</style>\n",
       "<table border=\"1\" class=\"dataframe\">\n",
       "  <thead>\n",
       "    <tr style=\"text-align: right;\">\n",
       "      <th></th>\n",
       "      <th>성별</th>\n",
       "      <th>인종</th>\n",
       "      <th>부모의 최종학력</th>\n",
       "      <th>급식비 지원</th>\n",
       "      <th>시험 준비여부</th>\n",
       "      <th>수학</th>\n",
       "      <th>읽기</th>\n",
       "      <th>쓰기</th>\n",
       "      <th>총점</th>\n",
       "      <th>평균</th>\n",
       "    </tr>\n",
       "  </thead>\n",
       "  <tbody>\n",
       "    <tr>\n",
       "      <th>0</th>\n",
       "      <td>여자</td>\n",
       "      <td>인종B</td>\n",
       "      <td>학사</td>\n",
       "      <td>1</td>\n",
       "      <td>0</td>\n",
       "      <td>72</td>\n",
       "      <td>72</td>\n",
       "      <td>74</td>\n",
       "      <td>218</td>\n",
       "      <td>72.666667</td>\n",
       "    </tr>\n",
       "    <tr>\n",
       "      <th>1</th>\n",
       "      <td>여자</td>\n",
       "      <td>인종C</td>\n",
       "      <td>대학교 재학</td>\n",
       "      <td>1</td>\n",
       "      <td>1</td>\n",
       "      <td>69</td>\n",
       "      <td>90</td>\n",
       "      <td>88</td>\n",
       "      <td>247</td>\n",
       "      <td>82.333333</td>\n",
       "    </tr>\n",
       "    <tr>\n",
       "      <th>2</th>\n",
       "      <td>여자</td>\n",
       "      <td>인종B</td>\n",
       "      <td>석사</td>\n",
       "      <td>1</td>\n",
       "      <td>0</td>\n",
       "      <td>90</td>\n",
       "      <td>95</td>\n",
       "      <td>93</td>\n",
       "      <td>278</td>\n",
       "      <td>92.666667</td>\n",
       "    </tr>\n",
       "    <tr>\n",
       "      <th>3</th>\n",
       "      <td>남자</td>\n",
       "      <td>인종A</td>\n",
       "      <td>전문대학 졸업</td>\n",
       "      <td>0</td>\n",
       "      <td>0</td>\n",
       "      <td>47</td>\n",
       "      <td>57</td>\n",
       "      <td>44</td>\n",
       "      <td>148</td>\n",
       "      <td>49.333333</td>\n",
       "    </tr>\n",
       "    <tr>\n",
       "      <th>4</th>\n",
       "      <td>남자</td>\n",
       "      <td>인종C</td>\n",
       "      <td>대학교 재학</td>\n",
       "      <td>1</td>\n",
       "      <td>0</td>\n",
       "      <td>76</td>\n",
       "      <td>78</td>\n",
       "      <td>75</td>\n",
       "      <td>229</td>\n",
       "      <td>76.333333</td>\n",
       "    </tr>\n",
       "    <tr>\n",
       "      <th>...</th>\n",
       "      <td>...</td>\n",
       "      <td>...</td>\n",
       "      <td>...</td>\n",
       "      <td>...</td>\n",
       "      <td>...</td>\n",
       "      <td>...</td>\n",
       "      <td>...</td>\n",
       "      <td>...</td>\n",
       "      <td>...</td>\n",
       "      <td>...</td>\n",
       "    </tr>\n",
       "    <tr>\n",
       "      <th>995</th>\n",
       "      <td>여자</td>\n",
       "      <td>인종E</td>\n",
       "      <td>석사</td>\n",
       "      <td>1</td>\n",
       "      <td>1</td>\n",
       "      <td>88</td>\n",
       "      <td>99</td>\n",
       "      <td>95</td>\n",
       "      <td>282</td>\n",
       "      <td>94.000000</td>\n",
       "    </tr>\n",
       "    <tr>\n",
       "      <th>996</th>\n",
       "      <td>남자</td>\n",
       "      <td>인종C</td>\n",
       "      <td>고등학교 졸업</td>\n",
       "      <td>0</td>\n",
       "      <td>0</td>\n",
       "      <td>62</td>\n",
       "      <td>55</td>\n",
       "      <td>55</td>\n",
       "      <td>172</td>\n",
       "      <td>57.333333</td>\n",
       "    </tr>\n",
       "    <tr>\n",
       "      <th>997</th>\n",
       "      <td>여자</td>\n",
       "      <td>인종C</td>\n",
       "      <td>고등학교 졸업</td>\n",
       "      <td>0</td>\n",
       "      <td>1</td>\n",
       "      <td>59</td>\n",
       "      <td>71</td>\n",
       "      <td>65</td>\n",
       "      <td>195</td>\n",
       "      <td>65.000000</td>\n",
       "    </tr>\n",
       "    <tr>\n",
       "      <th>998</th>\n",
       "      <td>여자</td>\n",
       "      <td>인종D</td>\n",
       "      <td>대학교 재학</td>\n",
       "      <td>1</td>\n",
       "      <td>1</td>\n",
       "      <td>68</td>\n",
       "      <td>78</td>\n",
       "      <td>77</td>\n",
       "      <td>223</td>\n",
       "      <td>74.333333</td>\n",
       "    </tr>\n",
       "    <tr>\n",
       "      <th>999</th>\n",
       "      <td>여자</td>\n",
       "      <td>인종D</td>\n",
       "      <td>대학교 재학</td>\n",
       "      <td>0</td>\n",
       "      <td>0</td>\n",
       "      <td>77</td>\n",
       "      <td>86</td>\n",
       "      <td>86</td>\n",
       "      <td>249</td>\n",
       "      <td>83.000000</td>\n",
       "    </tr>\n",
       "  </tbody>\n",
       "</table>\n",
       "<p>1000 rows × 10 columns</p>\n",
       "</div>"
      ],
      "text/plain": [
       "     성별   인종 부모의 최종학력  급식비 지원  시험 준비여부  수학  읽기  쓰기   총점         평균\n",
       "0    여자  인종B       학사       1        0  72  72  74  218  72.666667\n",
       "1    여자  인종C   대학교 재학       1        1  69  90  88  247  82.333333\n",
       "2    여자  인종B       석사       1        0  90  95  93  278  92.666667\n",
       "3    남자  인종A  전문대학 졸업       0        0  47  57  44  148  49.333333\n",
       "4    남자  인종C   대학교 재학       1        0  76  78  75  229  76.333333\n",
       "..   ..  ...      ...     ...      ...  ..  ..  ..  ...        ...\n",
       "995  여자  인종E       석사       1        1  88  99  95  282  94.000000\n",
       "996  남자  인종C  고등학교 졸업       0        0  62  55  55  172  57.333333\n",
       "997  여자  인종C  고등학교 졸업       0        1  59  71  65  195  65.000000\n",
       "998  여자  인종D   대학교 재학       1        1  68  78  77  223  74.333333\n",
       "999  여자  인종D   대학교 재학       0        0  77  86  86  249  83.000000\n",
       "\n",
       "[1000 rows x 10 columns]"
      ]
     },
     "execution_count": 348,
     "metadata": {},
     "output_type": "execute_result"
    }
   ],
   "source": [
    "korean_df = pd.read_csv(\"Cleaned_Students_Performance (korean).csv\", encoding=\"cp949\")\n",
    "korean_df"
   ]
  },
  {
   "cell_type": "code",
   "execution_count": 403,
   "metadata": {},
   "outputs": [
    {
     "data": {
      "text/html": [
       "<div>\n",
       "<style scoped>\n",
       "    .dataframe tbody tr th:only-of-type {\n",
       "        vertical-align: middle;\n",
       "    }\n",
       "\n",
       "    .dataframe tbody tr th {\n",
       "        vertical-align: top;\n",
       "    }\n",
       "\n",
       "    .dataframe thead th {\n",
       "        text-align: right;\n",
       "    }\n",
       "</style>\n",
       "<table border=\"1\" class=\"dataframe\">\n",
       "  <thead>\n",
       "    <tr style=\"text-align: right;\">\n",
       "      <th></th>\n",
       "      <th>성별</th>\n",
       "      <th>인종</th>\n",
       "      <th>부모의 최종학력</th>\n",
       "      <th>급식비 지원</th>\n",
       "      <th>시험 준비여부</th>\n",
       "      <th>수학</th>\n",
       "      <th>읽기</th>\n",
       "      <th>쓰기</th>\n",
       "      <th>총점</th>\n",
       "      <th>평균</th>\n",
       "    </tr>\n",
       "  </thead>\n",
       "  <tbody>\n",
       "    <tr>\n",
       "      <th>0</th>\n",
       "      <td>여자</td>\n",
       "      <td>인종B</td>\n",
       "      <td>학사</td>\n",
       "      <td>1</td>\n",
       "      <td>N</td>\n",
       "      <td>72</td>\n",
       "      <td>72</td>\n",
       "      <td>74</td>\n",
       "      <td>218</td>\n",
       "      <td>72.666667</td>\n",
       "    </tr>\n",
       "    <tr>\n",
       "      <th>1</th>\n",
       "      <td>여자</td>\n",
       "      <td>인종C</td>\n",
       "      <td>대학교 재학</td>\n",
       "      <td>1</td>\n",
       "      <td>Y</td>\n",
       "      <td>69</td>\n",
       "      <td>90</td>\n",
       "      <td>88</td>\n",
       "      <td>247</td>\n",
       "      <td>82.333333</td>\n",
       "    </tr>\n",
       "    <tr>\n",
       "      <th>2</th>\n",
       "      <td>여자</td>\n",
       "      <td>인종B</td>\n",
       "      <td>석사</td>\n",
       "      <td>1</td>\n",
       "      <td>N</td>\n",
       "      <td>90</td>\n",
       "      <td>95</td>\n",
       "      <td>93</td>\n",
       "      <td>278</td>\n",
       "      <td>92.666667</td>\n",
       "    </tr>\n",
       "    <tr>\n",
       "      <th>3</th>\n",
       "      <td>남자</td>\n",
       "      <td>인종A</td>\n",
       "      <td>전문대학 졸업</td>\n",
       "      <td>0</td>\n",
       "      <td>N</td>\n",
       "      <td>47</td>\n",
       "      <td>57</td>\n",
       "      <td>44</td>\n",
       "      <td>148</td>\n",
       "      <td>49.333333</td>\n",
       "    </tr>\n",
       "    <tr>\n",
       "      <th>4</th>\n",
       "      <td>남자</td>\n",
       "      <td>인종C</td>\n",
       "      <td>대학교 재학</td>\n",
       "      <td>1</td>\n",
       "      <td>N</td>\n",
       "      <td>76</td>\n",
       "      <td>78</td>\n",
       "      <td>75</td>\n",
       "      <td>229</td>\n",
       "      <td>76.333333</td>\n",
       "    </tr>\n",
       "    <tr>\n",
       "      <th>...</th>\n",
       "      <td>...</td>\n",
       "      <td>...</td>\n",
       "      <td>...</td>\n",
       "      <td>...</td>\n",
       "      <td>...</td>\n",
       "      <td>...</td>\n",
       "      <td>...</td>\n",
       "      <td>...</td>\n",
       "      <td>...</td>\n",
       "      <td>...</td>\n",
       "    </tr>\n",
       "    <tr>\n",
       "      <th>995</th>\n",
       "      <td>여자</td>\n",
       "      <td>인종E</td>\n",
       "      <td>석사</td>\n",
       "      <td>1</td>\n",
       "      <td>Y</td>\n",
       "      <td>88</td>\n",
       "      <td>99</td>\n",
       "      <td>95</td>\n",
       "      <td>282</td>\n",
       "      <td>94.000000</td>\n",
       "    </tr>\n",
       "    <tr>\n",
       "      <th>996</th>\n",
       "      <td>남자</td>\n",
       "      <td>인종C</td>\n",
       "      <td>고등학교 졸업</td>\n",
       "      <td>0</td>\n",
       "      <td>N</td>\n",
       "      <td>62</td>\n",
       "      <td>55</td>\n",
       "      <td>55</td>\n",
       "      <td>172</td>\n",
       "      <td>57.333333</td>\n",
       "    </tr>\n",
       "    <tr>\n",
       "      <th>997</th>\n",
       "      <td>여자</td>\n",
       "      <td>인종C</td>\n",
       "      <td>고등학교 졸업</td>\n",
       "      <td>0</td>\n",
       "      <td>Y</td>\n",
       "      <td>59</td>\n",
       "      <td>71</td>\n",
       "      <td>65</td>\n",
       "      <td>195</td>\n",
       "      <td>65.000000</td>\n",
       "    </tr>\n",
       "    <tr>\n",
       "      <th>998</th>\n",
       "      <td>여자</td>\n",
       "      <td>인종D</td>\n",
       "      <td>대학교 재학</td>\n",
       "      <td>1</td>\n",
       "      <td>Y</td>\n",
       "      <td>68</td>\n",
       "      <td>78</td>\n",
       "      <td>77</td>\n",
       "      <td>223</td>\n",
       "      <td>74.333333</td>\n",
       "    </tr>\n",
       "    <tr>\n",
       "      <th>999</th>\n",
       "      <td>여자</td>\n",
       "      <td>인종D</td>\n",
       "      <td>대학교 재학</td>\n",
       "      <td>0</td>\n",
       "      <td>N</td>\n",
       "      <td>77</td>\n",
       "      <td>86</td>\n",
       "      <td>86</td>\n",
       "      <td>249</td>\n",
       "      <td>83.000000</td>\n",
       "    </tr>\n",
       "  </tbody>\n",
       "</table>\n",
       "<p>1000 rows × 10 columns</p>\n",
       "</div>"
      ],
      "text/plain": [
       "     성별   인종 부모의 최종학력  급식비 지원 시험 준비여부  수학  읽기  쓰기   총점         평균\n",
       "0    여자  인종B       학사       1       N  72  72  74  218  72.666667\n",
       "1    여자  인종C   대학교 재학       1       Y  69  90  88  247  82.333333\n",
       "2    여자  인종B       석사       1       N  90  95  93  278  92.666667\n",
       "3    남자  인종A  전문대학 졸업       0       N  47  57  44  148  49.333333\n",
       "4    남자  인종C   대학교 재학       1       N  76  78  75  229  76.333333\n",
       "..   ..  ...      ...     ...     ...  ..  ..  ..  ...        ...\n",
       "995  여자  인종E       석사       1       Y  88  99  95  282  94.000000\n",
       "996  남자  인종C  고등학교 졸업       0       N  62  55  55  172  57.333333\n",
       "997  여자  인종C  고등학교 졸업       0       Y  59  71  65  195  65.000000\n",
       "998  여자  인종D   대학교 재학       1       Y  68  78  77  223  74.333333\n",
       "999  여자  인종D   대학교 재학       0       N  77  86  86  249  83.000000\n",
       "\n",
       "[1000 rows x 10 columns]"
      ]
     },
     "execution_count": 403,
     "metadata": {},
     "output_type": "execute_result"
    }
   ],
   "source": [
    "k_df = pd.read_csv(\"Cleaned_Students_Performance (2).csv\", encoding=\"cp949\")\n",
    "k_df"
   ]
  },
  {
   "cell_type": "code",
   "execution_count": 349,
   "metadata": {},
   "outputs": [
    {
     "data": {
      "text/html": [
       "<div>\n",
       "<style scoped>\n",
       "    .dataframe tbody tr th:only-of-type {\n",
       "        vertical-align: middle;\n",
       "    }\n",
       "\n",
       "    .dataframe tbody tr th {\n",
       "        vertical-align: top;\n",
       "    }\n",
       "\n",
       "    .dataframe thead th {\n",
       "        text-align: right;\n",
       "    }\n",
       "</style>\n",
       "<table border=\"1\" class=\"dataframe\">\n",
       "  <thead>\n",
       "    <tr style=\"text-align: right;\">\n",
       "      <th></th>\n",
       "      <th>gender</th>\n",
       "      <th>race_ethnicity</th>\n",
       "      <th>parental_level_of_education</th>\n",
       "      <th>lunch</th>\n",
       "      <th>test_preparation_course</th>\n",
       "      <th>math_score</th>\n",
       "      <th>reading_score</th>\n",
       "      <th>writing_score</th>\n",
       "      <th>total_score</th>\n",
       "      <th>average_score</th>\n",
       "    </tr>\n",
       "  </thead>\n",
       "  <tbody>\n",
       "    <tr>\n",
       "      <th>0</th>\n",
       "      <td>0</td>\n",
       "      <td>group B</td>\n",
       "      <td>bachelor's degree</td>\n",
       "      <td>1</td>\n",
       "      <td>0</td>\n",
       "      <td>72</td>\n",
       "      <td>72</td>\n",
       "      <td>74</td>\n",
       "      <td>218</td>\n",
       "      <td>72.666667</td>\n",
       "    </tr>\n",
       "    <tr>\n",
       "      <th>1</th>\n",
       "      <td>0</td>\n",
       "      <td>group C</td>\n",
       "      <td>some college</td>\n",
       "      <td>1</td>\n",
       "      <td>1</td>\n",
       "      <td>69</td>\n",
       "      <td>90</td>\n",
       "      <td>88</td>\n",
       "      <td>247</td>\n",
       "      <td>82.333333</td>\n",
       "    </tr>\n",
       "    <tr>\n",
       "      <th>2</th>\n",
       "      <td>0</td>\n",
       "      <td>group B</td>\n",
       "      <td>master's degree</td>\n",
       "      <td>1</td>\n",
       "      <td>0</td>\n",
       "      <td>90</td>\n",
       "      <td>95</td>\n",
       "      <td>93</td>\n",
       "      <td>278</td>\n",
       "      <td>92.666667</td>\n",
       "    </tr>\n",
       "    <tr>\n",
       "      <th>3</th>\n",
       "      <td>1</td>\n",
       "      <td>group A</td>\n",
       "      <td>associate's degree</td>\n",
       "      <td>0</td>\n",
       "      <td>0</td>\n",
       "      <td>47</td>\n",
       "      <td>57</td>\n",
       "      <td>44</td>\n",
       "      <td>148</td>\n",
       "      <td>49.333333</td>\n",
       "    </tr>\n",
       "    <tr>\n",
       "      <th>4</th>\n",
       "      <td>1</td>\n",
       "      <td>group C</td>\n",
       "      <td>some college</td>\n",
       "      <td>1</td>\n",
       "      <td>0</td>\n",
       "      <td>76</td>\n",
       "      <td>78</td>\n",
       "      <td>75</td>\n",
       "      <td>229</td>\n",
       "      <td>76.333333</td>\n",
       "    </tr>\n",
       "  </tbody>\n",
       "</table>\n",
       "</div>"
      ],
      "text/plain": [
       "   gender race_ethnicity parental_level_of_education  lunch  \\\n",
       "0       0        group B           bachelor's degree      1   \n",
       "1       0        group C                some college      1   \n",
       "2       0        group B             master's degree      1   \n",
       "3       1        group A          associate's degree      0   \n",
       "4       1        group C                some college      1   \n",
       "\n",
       "   test_preparation_course  math_score  reading_score  writing_score  \\\n",
       "0                        0          72             72             74   \n",
       "1                        1          69             90             88   \n",
       "2                        0          90             95             93   \n",
       "3                        0          47             57             44   \n",
       "4                        0          76             78             75   \n",
       "\n",
       "   total_score  average_score  \n",
       "0          218      72.666667  \n",
       "1          247      82.333333  \n",
       "2          278      92.666667  \n",
       "3          148      49.333333  \n",
       "4          229      76.333333  "
      ]
     },
     "execution_count": 349,
     "metadata": {},
     "output_type": "execute_result"
    }
   ],
   "source": [
    "df.head()"
   ]
  },
  {
   "cell_type": "code",
   "execution_count": 350,
   "metadata": {},
   "outputs": [
    {
     "data": {
      "image/png": "[encoded data removed]",
      "text/plain": [
       "<Figure size 800x100 with 1 Axes>"
      ]
     },
     "metadata": {},
     "output_type": "display_data"
    }
   ],
   "source": [
    "palette = sns.color_palette(\"Set2\")\n",
    "sns.palplot(palette)\n",
    "sns.set_palette(\"Set2\")"
   ]
  },
  {
   "cell_type": "code",
   "execution_count": 351,
   "metadata": {},
   "outputs": [
    {
     "data": {
      "text/plain": [
       "gender                         0\n",
       "race_ethnicity                 0\n",
       "parental_level_of_education    0\n",
       "lunch                          0\n",
       "test_preparation_course        0\n",
       "math_score                     0\n",
       "reading_score                  0\n",
       "writing_score                  0\n",
       "total_score                    0\n",
       "average_score                  0\n",
       "dtype: int64"
      ]
     },
     "execution_count": 351,
     "metadata": {},
     "output_type": "execute_result"
    }
   ],
   "source": [
    "df.isnull().sum()"
   ]
  },
  {
   "cell_type": "code",
   "execution_count": 352,
   "metadata": {},
   "outputs": [
    {
     "data": {
      "text/plain": [
       "race_ethnicity\n",
       "group A    62.992509\n",
       "group B    65.468421\n",
       "group C    67.131661\n",
       "group D    69.179389\n",
       "group E    72.752381\n",
       "Name: average_score, dtype: float64"
      ]
     },
     "execution_count": 352,
     "metadata": {},
     "output_type": "execute_result"
    }
   ],
   "source": [
    "# 인종 x 성별\n",
    "# 인종 x 부모 교육 수준\n",
    "# 인종 x 점심 제공\n",
    "\n",
    "# e 그룹 인종의 종합, 평균 스코어가 제일 높다\n",
    "df.groupby(\"race_ethnicity\")[\"average_score\"].mean()"
   ]
  },
  {
   "cell_type": "code",
   "execution_count": 353,
   "metadata": {},
   "outputs": [
    {
     "data": {
      "text/html": [
       "<div>\n",
       "<style scoped>\n",
       "    .dataframe tbody tr th:only-of-type {\n",
       "        vertical-align: middle;\n",
       "    }\n",
       "\n",
       "    .dataframe tbody tr th {\n",
       "        vertical-align: top;\n",
       "    }\n",
       "\n",
       "    .dataframe thead th {\n",
       "        text-align: right;\n",
       "    }\n",
       "</style>\n",
       "<table border=\"1\" class=\"dataframe\">\n",
       "  <thead>\n",
       "    <tr style=\"text-align: right;\">\n",
       "      <th></th>\n",
       "      <th>gender</th>\n",
       "      <th>race_ethnicity</th>\n",
       "      <th>parental_level_of_education</th>\n",
       "      <th>lunch</th>\n",
       "      <th>test_preparation_course</th>\n",
       "      <th>math_score</th>\n",
       "      <th>reading_score</th>\n",
       "      <th>writing_score</th>\n",
       "      <th>total_score</th>\n",
       "      <th>average_score</th>\n",
       "    </tr>\n",
       "  </thead>\n",
       "  <tbody>\n",
       "    <tr>\n",
       "      <th>0</th>\n",
       "      <td>0</td>\n",
       "      <td>group B</td>\n",
       "      <td>bachelor's degree</td>\n",
       "      <td>1</td>\n",
       "      <td>0</td>\n",
       "      <td>72</td>\n",
       "      <td>72</td>\n",
       "      <td>74</td>\n",
       "      <td>218</td>\n",
       "      <td>72.666667</td>\n",
       "    </tr>\n",
       "    <tr>\n",
       "      <th>1</th>\n",
       "      <td>0</td>\n",
       "      <td>group C</td>\n",
       "      <td>some college</td>\n",
       "      <td>1</td>\n",
       "      <td>1</td>\n",
       "      <td>69</td>\n",
       "      <td>90</td>\n",
       "      <td>88</td>\n",
       "      <td>247</td>\n",
       "      <td>82.333333</td>\n",
       "    </tr>\n",
       "    <tr>\n",
       "      <th>2</th>\n",
       "      <td>0</td>\n",
       "      <td>group B</td>\n",
       "      <td>master's degree</td>\n",
       "      <td>1</td>\n",
       "      <td>0</td>\n",
       "      <td>90</td>\n",
       "      <td>95</td>\n",
       "      <td>93</td>\n",
       "      <td>278</td>\n",
       "      <td>92.666667</td>\n",
       "    </tr>\n",
       "    <tr>\n",
       "      <th>3</th>\n",
       "      <td>1</td>\n",
       "      <td>group A</td>\n",
       "      <td>associate's degree</td>\n",
       "      <td>0</td>\n",
       "      <td>0</td>\n",
       "      <td>47</td>\n",
       "      <td>57</td>\n",
       "      <td>44</td>\n",
       "      <td>148</td>\n",
       "      <td>49.333333</td>\n",
       "    </tr>\n",
       "    <tr>\n",
       "      <th>4</th>\n",
       "      <td>1</td>\n",
       "      <td>group C</td>\n",
       "      <td>some college</td>\n",
       "      <td>1</td>\n",
       "      <td>0</td>\n",
       "      <td>76</td>\n",
       "      <td>78</td>\n",
       "      <td>75</td>\n",
       "      <td>229</td>\n",
       "      <td>76.333333</td>\n",
       "    </tr>\n",
       "  </tbody>\n",
       "</table>\n",
       "</div>"
      ],
      "text/plain": [
       "   gender race_ethnicity parental_level_of_education  lunch  \\\n",
       "0       0        group B           bachelor's degree      1   \n",
       "1       0        group C                some college      1   \n",
       "2       0        group B             master's degree      1   \n",
       "3       1        group A          associate's degree      0   \n",
       "4       1        group C                some college      1   \n",
       "\n",
       "   test_preparation_course  math_score  reading_score  writing_score  \\\n",
       "0                        0          72             72             74   \n",
       "1                        1          69             90             88   \n",
       "2                        0          90             95             93   \n",
       "3                        0          47             57             44   \n",
       "4                        0          76             78             75   \n",
       "\n",
       "   total_score  average_score  \n",
       "0          218      72.666667  \n",
       "1          247      82.333333  \n",
       "2          278      92.666667  \n",
       "3          148      49.333333  \n",
       "4          229      76.333333  "
      ]
     },
     "execution_count": 353,
     "metadata": {},
     "output_type": "execute_result"
    }
   ],
   "source": [
    "df.head()"
   ]
  },
  {
   "cell_type": "code",
   "execution_count": null,
   "metadata": {},
   "outputs": [],
   "source": []
  },
  {
   "cell_type": "code",
   "execution_count": 354,
   "metadata": {},
   "outputs": [],
   "source": [
    "new_df = df.copy()\n",
    "new_df[\"gender\"] = df[\"gender\"].map({0: \"Female\", 1: \"Male\"})\n",
    "# new_df[\"parental_level_of_education\"] = df[\"parental_level_of_education\"].map(\n",
    "#     {\n",
    "#         3: \"associate's degree\",\n",
    "#         4: \"bachelor's degree\",\n",
    "#         1: \"high school\",\n",
    "#         5: \"master's degree\",\n",
    "#         2: \"some college\",\n",
    "#         0: \"some high school\",\n",
    "#     }\n",
    "# )\n",
    "# new_df[\"race_ethnicity\"] = df[\"race_ethnicity\"].map(\n",
    "#     {0: \"group A\", 1: \"group B\", 2: \"group C\", 3: \"group D\", 4: \"group E\"}\n",
    "# )"
   ]
  },
  {
   "cell_type": "code",
   "execution_count": 355,
   "metadata": {},
   "outputs": [
    {
     "data": {
      "text/html": [
       "<div>\n",
       "<style scoped>\n",
       "    .dataframe tbody tr th:only-of-type {\n",
       "        vertical-align: middle;\n",
       "    }\n",
       "\n",
       "    .dataframe tbody tr th {\n",
       "        vertical-align: top;\n",
       "    }\n",
       "\n",
       "    .dataframe thead th {\n",
       "        text-align: right;\n",
       "    }\n",
       "</style>\n",
       "<table border=\"1\" class=\"dataframe\">\n",
       "  <thead>\n",
       "    <tr style=\"text-align: right;\">\n",
       "      <th></th>\n",
       "      <th>gender</th>\n",
       "      <th>race_ethnicity</th>\n",
       "      <th>parental_level_of_education</th>\n",
       "      <th>lunch</th>\n",
       "      <th>test_preparation_course</th>\n",
       "      <th>math_score</th>\n",
       "      <th>reading_score</th>\n",
       "      <th>writing_score</th>\n",
       "      <th>total_score</th>\n",
       "      <th>average_score</th>\n",
       "    </tr>\n",
       "  </thead>\n",
       "  <tbody>\n",
       "    <tr>\n",
       "      <th>0</th>\n",
       "      <td>Female</td>\n",
       "      <td>group B</td>\n",
       "      <td>bachelor's degree</td>\n",
       "      <td>1</td>\n",
       "      <td>0</td>\n",
       "      <td>72</td>\n",
       "      <td>72</td>\n",
       "      <td>74</td>\n",
       "      <td>218</td>\n",
       "      <td>72.666667</td>\n",
       "    </tr>\n",
       "    <tr>\n",
       "      <th>1</th>\n",
       "      <td>Female</td>\n",
       "      <td>group C</td>\n",
       "      <td>some college</td>\n",
       "      <td>1</td>\n",
       "      <td>1</td>\n",
       "      <td>69</td>\n",
       "      <td>90</td>\n",
       "      <td>88</td>\n",
       "      <td>247</td>\n",
       "      <td>82.333333</td>\n",
       "    </tr>\n",
       "    <tr>\n",
       "      <th>2</th>\n",
       "      <td>Female</td>\n",
       "      <td>group B</td>\n",
       "      <td>master's degree</td>\n",
       "      <td>1</td>\n",
       "      <td>0</td>\n",
       "      <td>90</td>\n",
       "      <td>95</td>\n",
       "      <td>93</td>\n",
       "      <td>278</td>\n",
       "      <td>92.666667</td>\n",
       "    </tr>\n",
       "    <tr>\n",
       "      <th>3</th>\n",
       "      <td>Male</td>\n",
       "      <td>group A</td>\n",
       "      <td>associate's degree</td>\n",
       "      <td>0</td>\n",
       "      <td>0</td>\n",
       "      <td>47</td>\n",
       "      <td>57</td>\n",
       "      <td>44</td>\n",
       "      <td>148</td>\n",
       "      <td>49.333333</td>\n",
       "    </tr>\n",
       "    <tr>\n",
       "      <th>4</th>\n",
       "      <td>Male</td>\n",
       "      <td>group C</td>\n",
       "      <td>some college</td>\n",
       "      <td>1</td>\n",
       "      <td>0</td>\n",
       "      <td>76</td>\n",
       "      <td>78</td>\n",
       "      <td>75</td>\n",
       "      <td>229</td>\n",
       "      <td>76.333333</td>\n",
       "    </tr>\n",
       "  </tbody>\n",
       "</table>\n",
       "</div>"
      ],
      "text/plain": [
       "   gender race_ethnicity parental_level_of_education  lunch  \\\n",
       "0  Female        group B           bachelor's degree      1   \n",
       "1  Female        group C                some college      1   \n",
       "2  Female        group B             master's degree      1   \n",
       "3    Male        group A          associate's degree      0   \n",
       "4    Male        group C                some college      1   \n",
       "\n",
       "   test_preparation_course  math_score  reading_score  writing_score  \\\n",
       "0                        0          72             72             74   \n",
       "1                        1          69             90             88   \n",
       "2                        0          90             95             93   \n",
       "3                        0          47             57             44   \n",
       "4                        0          76             78             75   \n",
       "\n",
       "   total_score  average_score  \n",
       "0          218      72.666667  \n",
       "1          247      82.333333  \n",
       "2          278      92.666667  \n",
       "3          148      49.333333  \n",
       "4          229      76.333333  "
      ]
     },
     "execution_count": 355,
     "metadata": {},
     "output_type": "execute_result"
    }
   ],
   "source": [
    "new_df.head()"
   ]
  },
  {
   "cell_type": "code",
   "execution_count": 356,
   "metadata": {},
   "outputs": [
    {
     "data": {
      "text/plain": [
       "gender  race_ethnicity\n",
       "0       group A           65.129630\n",
       "        group B           67.509615\n",
       "        group C           68.585185\n",
       "        group D           71.439276\n",
       "        group E           74.062802\n",
       "1       group A           61.540881\n",
       "        group B           63.000000\n",
       "        group C           65.249400\n",
       "        group D           66.987469\n",
       "        group E           71.478873\n",
       "Name: average_score, dtype: float64"
      ]
     },
     "execution_count": 356,
     "metadata": {},
     "output_type": "execute_result"
    }
   ],
   "source": [
    "# 남성보다 여성의 성적이 더 높다\n",
    "# 가설 : 인종별로도 남성보다 여성의 성적이 더 높을 것이다\n",
    "result = df.groupby([\"gender\", \"race_ethnicity\"])[\"average_score\"].mean()\n",
    "result"
   ]
  },
  {
   "cell_type": "code",
   "execution_count": 357,
   "metadata": {},
   "outputs": [
    {
     "data": {
      "text/plain": [
       "<Axes: xlabel='race_ethnicity', ylabel='average_score'>"
      ]
     },
     "execution_count": 357,
     "metadata": {},
     "output_type": "execute_result"
    },
    {
     "data": {
      "image/png": "[encoded data removed]",
      "text/plain": [
       "<Figure size 640x480 with 1 Axes>"
      ]
     },
     "metadata": {},
     "output_type": "display_data"
    }
   ],
   "source": [
    "sns.barplot(\n",
    "    data=df, x=\"race_ethnicity\", y=\"average_score\", hue=\"gender\", estimator=\"mean\"\n",
    ")"
   ]
  },
  {
   "cell_type": "code",
   "execution_count": 358,
   "metadata": {},
   "outputs": [
    {
     "data": {
      "text/plain": [
       "gender\n",
       "0    69.569498\n",
       "1    65.837483\n",
       "Name: average_score, dtype: float64"
      ]
     },
     "execution_count": 358,
     "metadata": {},
     "output_type": "execute_result"
    }
   ],
   "source": [
    "# e 그룹 인종의 종합, 평균 스코어가 제일 높다\n",
    "df.groupby(\"gender\")[\"average_score\"].mean()"
   ]
  },
  {
   "cell_type": "code",
   "execution_count": 359,
   "metadata": {},
   "outputs": [
    {
     "data": {
      "text/plain": [
       "test_preparation_course\n",
       "0    65.038941\n",
       "1    72.669460\n",
       "Name: average_score, dtype: float64"
      ]
     },
     "execution_count": 359,
     "metadata": {},
     "output_type": "execute_result"
    }
   ],
   "source": [
    "df.groupby(\"test_preparation_course\")[\"average_score\"].mean()"
   ]
  },
  {
   "cell_type": "code",
   "execution_count": 360,
   "metadata": {},
   "outputs": [
    {
     "data": {
      "text/plain": [
       "test_preparation_course\n",
       "0    65.038941\n",
       "1    72.669460\n",
       "Name: average_score, dtype: float64"
      ]
     },
     "execution_count": 360,
     "metadata": {},
     "output_type": "execute_result"
    }
   ],
   "source": [
    "df.groupby(\"test_preparation_course\")[\"average_score\"].mean()"
   ]
  },
  {
   "cell_type": "code",
   "execution_count": 361,
   "metadata": {},
   "outputs": [
    {
     "data": {
      "text/plain": [
       "parental_level_of_education  lunch  test_preparation_course\n",
       "associate's degree           0      0                          61.638889\n",
       "                                    1                          71.701149\n",
       "                             1      0                          68.920290\n",
       "                                    1                          76.710692\n",
       "bachelor's degree            0      0                          63.876543\n",
       "                                    1                          72.098039\n",
       "                             1      0                          72.340741\n",
       "                                    1                          78.666667\n",
       "high school                  0      0                          54.094203\n",
       "                                    1                          63.666667\n",
       "                             1      0                          65.198582\n",
       "                                    1                          69.437500\n",
       "master's degree              0      0                          62.111111\n",
       "                                    1                          72.111111\n",
       "                             1      0                          76.691358\n",
       "                                    1                          82.625000\n",
       "some college                 0      0                          61.308176\n",
       "                                    1                          66.358974\n",
       "                             1      0                          67.479167\n",
       "                                    1                          78.882353\n",
       "some high school             0      0                          53.640351\n",
       "                                    1                          63.144928\n",
       "                             1      0                          66.828125\n",
       "                                    1                          71.975309\n",
       "Name: average_score, dtype: float64"
      ]
     },
     "execution_count": 361,
     "metadata": {},
     "output_type": "execute_result"
    }
   ],
   "source": [
    "df.groupby([\"parental_level_of_education\", \"lunch\", \"test_preparation_course\"])[\n",
    "    \"average_score\"\n",
    "].mean()"
   ]
  },
  {
   "cell_type": "code",
   "execution_count": 362,
   "metadata": {},
   "outputs": [
    {
     "data": {
      "text/plain": [
       "parental_level_of_education  lunch\n",
       "associate's degree           0        65.428571\n",
       "                             1        71.767816\n",
       "bachelor's degree            0        67.053030\n",
       "                             1        74.819820\n",
       "high school                  0        57.376190\n",
       "                             1        66.275132\n",
       "master's degree              0        67.111111\n",
       "                             1        78.047619\n",
       "some college                 0        62.970464\n",
       "                             1        71.435374\n",
       "some high school             0        57.224044\n",
       "                             1        69.183616\n",
       "Name: average_score, dtype: float64"
      ]
     },
     "execution_count": 362,
     "metadata": {},
     "output_type": "execute_result"
    }
   ],
   "source": [
    "# 부모의 학력 & 점심을 지원 받는 요소에 따른 평균 성적\n",
    "df.groupby([\"parental_level_of_education\", \"lunch\"])[\"average_score\"].mean()"
   ]
  },
  {
   "cell_type": "code",
   "execution_count": 363,
   "metadata": {},
   "outputs": [
    {
     "data": {
      "text/plain": [
       "<Axes: xlabel='lunch', ylabel='average_score'>"
      ]
     },
     "execution_count": 363,
     "metadata": {},
     "output_type": "execute_result"
    },
    {
     "data": {
      "image/png": "[encoded data removed]",
      "text/plain": [
       "<Figure size 1000x500 with 1 Axes>"
      ]
     },
     "metadata": {},
     "output_type": "display_data"
    }
   ],
   "source": [
    "# 부모의 학력 & 점심을 지원 받는 요소에 따른 평균 성적\n",
    "plt.figure(figsize=[10, 5])\n",
    "sns.barplot(\n",
    "    data=new_df,\n",
    "    x=\"lunch\",\n",
    "    y=\"average_score\",\n",
    "    hue=\"parental_level_of_education\",\n",
    "    estimator=\"mean\",\n",
    ")\n",
    "\n",
    "\n",
    "# 부모의 학력이 낮은 2개 구간 제외, 나머지 부모의 학력이 높은 만큼 성적에 영향"
   ]
  },
  {
   "cell_type": "code",
   "execution_count": 364,
   "metadata": {},
   "outputs": [
    {
     "data": {
      "image/png": "[encoded data removed]",
      "text/plain": [
       "<Figure size 1000x500 with 1 Axes>"
      ]
     },
     "metadata": {},
     "output_type": "display_data"
    }
   ],
   "source": [
    "# 부모의 학력 & 시험 준비를 하는 인원에 따른 평균 성적\n",
    "plt.figure(figsize=[10, 5])\n",
    "sns.barplot(\n",
    "    data=new_df,\n",
    "    x=\"test_preparation_course\",\n",
    "    y=\"average_score\",\n",
    "    hue=\"parental_level_of_education\",\n",
    "    estimator=\"mean\",\n",
    ")\n",
    "\n",
    "ax = sns.countplot(data=new_df, x=\"lunch\")\n",
    "\n",
    "# 막대 위에 숫자 표시\n",
    "for bar in ax.patches:\n",
    "    count = int(bar.get_height())  # 막대의 높이 = 개수\n",
    "    ax.text(\n",
    "        bar.get_x() + bar.get_width() / 2,  # x 좌표: 막대 중앙\n",
    "        count + 0.5,  # y 좌표: 막대 위 약간 위\n",
    "        str(count),  # 텍스트로 개수 표시\n",
    "        ha=\"center\",  # 텍스트 정렬\n",
    "        va=\"bottom\",  # 텍스트 정렬\n",
    "    )"
   ]
  },
  {
   "cell_type": "code",
   "execution_count": 365,
   "metadata": {},
   "outputs": [
    {
     "data": {
      "image/png": "[encoded data removed]",
      "text/plain": [
       "<Figure size 640x480 with 1 Axes>"
      ]
     },
     "metadata": {},
     "output_type": "display_data"
    }
   ],
   "source": [
    "# [사회/문화적 요인]의 최종 그래프\n",
    "res = (\n",
    "    new_df.groupby(\n",
    "        [\"test_preparation_course\", \"parental_level_of_education\", \"race_ethnicity\"]\n",
    "    )[\"average_score\"]\n",
    "    .mean()\n",
    "    .reset_index()\n",
    ")\n",
    "\n",
    "sns.set_palette(\"Set2\")\n",
    "grh = sns.barplot(\n",
    "    data=res,\n",
    "    x=\"race_ethnicity\",\n",
    "    # x=\"parental_level_of_education\",\n",
    "    y=\"average_score\",\n",
    "    hue=\"parental_level_of_education\",\n",
    ")\n",
    "# sns.move_legend(grh, \"lower right\")\n",
    "\n",
    "# 막대 위에 숫자 표시\n",
    "for bar in grh.patches:\n",
    "    count = int(bar.get_height())  # 막대의 높이 = 개수\n",
    "    grh.text(\n",
    "        bar.get_x() + bar.get_width() / 2,  # x 좌표: 막대 중앙\n",
    "        count - 15,  # y 좌표: 막대 위 약간 위\n",
    "        str(count),  # 텍스트로 개수 표시\n",
    "        ha=\"center\",  # 텍스트 정렬\n",
    "        # va=\"bottom\",  # 텍스트 정렬\n",
    "    )\n",
    "\n",
    "plt.show()"
   ]
  },
  {
   "cell_type": "code",
   "execution_count": 366,
   "metadata": {},
   "outputs": [
    {
     "data": {
      "text/plain": [
       "gender                         0\n",
       "race_ethnicity                 0\n",
       "parental_level_of_education    0\n",
       "lunch                          0\n",
       "test_preparation_course        0\n",
       "math_score                     0\n",
       "reading_score                  0\n",
       "writing_score                  0\n",
       "total_score                    0\n",
       "average_score                  0\n",
       "dtype: int64"
      ]
     },
     "execution_count": 366,
     "metadata": {},
     "output_type": "execute_result"
    }
   ],
   "source": [
    "new_df.isnull().sum()"
   ]
  },
  {
   "cell_type": "code",
   "execution_count": 367,
   "metadata": {},
   "outputs": [
    {
     "data": {
      "image/png": "[encoded data removed]",
      "text/plain": [
       "<Figure size 1000x700 with 1 Axes>"
      ]
     },
     "metadata": {},
     "output_type": "display_data"
    }
   ],
   "source": [
    "# [경제적 요인]의 최종 그래프\n",
    "\n",
    "plt.figure(figsize=[10, 7])\n",
    "group = (\n",
    "    korean_df.groupby([\"부모의 최종학력\", \"급식비 지원\", \"시험 준비여부\"])[\"평균\"]\n",
    "    .mean()\n",
    "    .reset_index()\n",
    ")\n",
    "# grid = sns.barplot(data=group, x=\"부모의 최종학력\", y=\"평균\", hue=\"급식비 지원\")\n",
    "\n",
    "\n",
    "sns.set_palette(\"Set2\")\n",
    "grh = sns.barplot(\n",
    "    data=group,\n",
    "    x=\"부모의 최종학력\",\n",
    "    # x=\"parental_level_of_education\",\n",
    "    y=\"평균\",\n",
    "    hue=\"급식비 지원\",\n",
    ")\n",
    "# sns.move_legend(grh, \"lower right\")\n",
    "\n",
    "# 막대 위에 숫자 표시\n",
    "for bar in grh.patches:\n",
    "    count = int(bar.get_height())\n",
    "    if str(count) == \"0\":\n",
    "        continue  # 막대의 높이 = 개수\n",
    "    grh.text(\n",
    "        bar.get_x() + bar.get_width() / 2,  # x 좌표: 막대 중앙\n",
    "        count - 15,  # y 좌표: 막대 위 약간 위\n",
    "        str(count),  # 텍스트로 개수 표시\n",
    "        ha=\"center\",  # 텍스트 정렬\n",
    "        # va=\"bottom\",  # 텍스트 정렬\n",
    "    )\n",
    "\n",
    "plt.title(\"경제적 요인\")\n",
    "# plt.xticks(rotation=45)\n",
    "plt.show()"
   ]
  },
  {
   "cell_type": "code",
   "execution_count": 335,
   "metadata": {},
   "outputs": [
    {
     "data": {
      "text/html": [
       "<div>\n",
       "<style scoped>\n",
       "    .dataframe tbody tr th:only-of-type {\n",
       "        vertical-align: middle;\n",
       "    }\n",
       "\n",
       "    .dataframe tbody tr th {\n",
       "        vertical-align: top;\n",
       "    }\n",
       "\n",
       "    .dataframe thead th {\n",
       "        text-align: right;\n",
       "    }\n",
       "</style>\n",
       "<table border=\"1\" class=\"dataframe\">\n",
       "  <thead>\n",
       "    <tr style=\"text-align: right;\">\n",
       "      <th></th>\n",
       "      <th>성별</th>\n",
       "      <th>인종</th>\n",
       "      <th>부모의 최종학력</th>\n",
       "      <th>급식비 지원</th>\n",
       "      <th>시험 준비여부</th>\n",
       "      <th>수학</th>\n",
       "      <th>읽기</th>\n",
       "      <th>쓰기</th>\n",
       "      <th>총점</th>\n",
       "      <th>평균</th>\n",
       "    </tr>\n",
       "  </thead>\n",
       "  <tbody>\n",
       "    <tr>\n",
       "      <th>0</th>\n",
       "      <td>여자</td>\n",
       "      <td>인종B</td>\n",
       "      <td>학사</td>\n",
       "      <td>1</td>\n",
       "      <td>0</td>\n",
       "      <td>72</td>\n",
       "      <td>72</td>\n",
       "      <td>74</td>\n",
       "      <td>218</td>\n",
       "      <td>72.666667</td>\n",
       "    </tr>\n",
       "    <tr>\n",
       "      <th>1</th>\n",
       "      <td>여자</td>\n",
       "      <td>인종C</td>\n",
       "      <td>대학교 재학</td>\n",
       "      <td>1</td>\n",
       "      <td>1</td>\n",
       "      <td>69</td>\n",
       "      <td>90</td>\n",
       "      <td>88</td>\n",
       "      <td>247</td>\n",
       "      <td>82.333333</td>\n",
       "    </tr>\n",
       "    <tr>\n",
       "      <th>2</th>\n",
       "      <td>여자</td>\n",
       "      <td>인종B</td>\n",
       "      <td>석사</td>\n",
       "      <td>1</td>\n",
       "      <td>0</td>\n",
       "      <td>90</td>\n",
       "      <td>95</td>\n",
       "      <td>93</td>\n",
       "      <td>278</td>\n",
       "      <td>92.666667</td>\n",
       "    </tr>\n",
       "    <tr>\n",
       "      <th>3</th>\n",
       "      <td>남자</td>\n",
       "      <td>인종A</td>\n",
       "      <td>전문대학 졸업</td>\n",
       "      <td>0</td>\n",
       "      <td>0</td>\n",
       "      <td>47</td>\n",
       "      <td>57</td>\n",
       "      <td>44</td>\n",
       "      <td>148</td>\n",
       "      <td>49.333333</td>\n",
       "    </tr>\n",
       "    <tr>\n",
       "      <th>4</th>\n",
       "      <td>남자</td>\n",
       "      <td>인종C</td>\n",
       "      <td>대학교 재학</td>\n",
       "      <td>1</td>\n",
       "      <td>0</td>\n",
       "      <td>76</td>\n",
       "      <td>78</td>\n",
       "      <td>75</td>\n",
       "      <td>229</td>\n",
       "      <td>76.333333</td>\n",
       "    </tr>\n",
       "  </tbody>\n",
       "</table>\n",
       "</div>"
      ],
      "text/plain": [
       "   성별   인종 부모의 최종학력  급식비 지원  시험 준비여부  수학  읽기  쓰기   총점         평균\n",
       "0  여자  인종B       학사       1        0  72  72  74  218  72.666667\n",
       "1  여자  인종C   대학교 재학       1        1  69  90  88  247  82.333333\n",
       "2  여자  인종B       석사       1        0  90  95  93  278  92.666667\n",
       "3  남자  인종A  전문대학 졸업       0        0  47  57  44  148  49.333333\n",
       "4  남자  인종C   대학교 재학       1        0  76  78  75  229  76.333333"
      ]
     },
     "execution_count": 335,
     "metadata": {},
     "output_type": "execute_result"
    }
   ],
   "source": [
    "korean_df.head()"
   ]
  },
  {
   "cell_type": "code",
   "execution_count": 345,
   "metadata": {},
   "outputs": [
    {
     "data": {
      "text/plain": [
       "시험 준비여부\n",
       "0    64.077882\n",
       "1    69.695531\n",
       "Name: 수학, dtype: float64"
      ]
     },
     "execution_count": 345,
     "metadata": {},
     "output_type": "execute_result"
    }
   ],
   "source": [
    "korean_df.groupby(\"시험 준비여부\")[\"수학\"].mean()"
   ]
  },
  {
   "cell_type": "code",
   "execution_count": 369,
   "metadata": {},
   "outputs": [
    {
     "data": {
      "text/plain": [
       "시험 준비여부\n",
       "0    100\n",
       "1    100\n",
       "Name: 수학, dtype: int64"
      ]
     },
     "execution_count": 369,
     "metadata": {},
     "output_type": "execute_result"
    }
   ],
   "source": [
    "korean_df.groupby(\"시험 준비여부\")[\"수학\"].max()\n"
   ]
  },
  {
   "cell_type": "code",
   "execution_count": 370,
   "metadata": {},
   "outputs": [
    {
     "data": {
      "text/plain": [
       "시험 준비여부\n",
       "0     0\n",
       "1    23\n",
       "Name: 수학, dtype: int64"
      ]
     },
     "execution_count": 370,
     "metadata": {},
     "output_type": "execute_result"
    }
   ],
   "source": [
    "korean_df.groupby(\"시험 준비여부\")[\"수학\"].min()\n"
   ]
  },
  {
   "cell_type": "code",
   "execution_count": 371,
   "metadata": {},
   "outputs": [
    {
     "data": {
      "text/plain": [
       "시험 준비여부\n",
       "0    66.534268\n",
       "1    73.893855\n",
       "Name: 읽기, dtype: float64"
      ]
     },
     "execution_count": 371,
     "metadata": {},
     "output_type": "execute_result"
    }
   ],
   "source": [
    "korean_df.groupby(\"시험 준비여부\")[\"읽기\"].mean()\n"
   ]
  },
  {
   "cell_type": "code",
   "execution_count": 372,
   "metadata": {},
   "outputs": [
    {
     "data": {
      "text/plain": [
       "시험 준비여부\n",
       "0    100\n",
       "1    100\n",
       "Name: 읽기, dtype: int64"
      ]
     },
     "execution_count": 372,
     "metadata": {},
     "output_type": "execute_result"
    }
   ],
   "source": [
    "korean_df.groupby(\"시험 준비여부\")[\"읽기\"].max()\n"
   ]
  },
  {
   "cell_type": "code",
   "execution_count": 373,
   "metadata": {},
   "outputs": [
    {
     "data": {
      "text/plain": [
       "시험 준비여부\n",
       "0    17\n",
       "1    37\n",
       "Name: 읽기, dtype: int64"
      ]
     },
     "execution_count": 373,
     "metadata": {},
     "output_type": "execute_result"
    }
   ],
   "source": [
    "korean_df.groupby(\"시험 준비여부\")[\"읽기\"].min()\n"
   ]
  },
  {
   "cell_type": "code",
   "execution_count": null,
   "metadata": {},
   "outputs": [
    {
     "data": {
      "image/png": "[encoded data removed]",
      "text/plain": [
       "<Figure size 640x480 with 1 Axes>"
      ]
     },
     "metadata": {},
     "output_type": "display_data"
    }
   ],
   "source": [
    "grh=sns.barplot(\n",
    "    x=korean_df[\"시험 준비여부\"],\n",
    "    y=korean_df[\"수학\"].mean()\n",
    ")\n",
    "for bar in grh.patches:\n",
    "    count = int(bar.get_height())\n",
    "    if str(count) == \"0\":\n",
    "        continue  # 막대의 높이 = 개수\n",
    "    grh.text(\n",
    "        bar.get_x() + bar.get_width() / 2,  # x 좌표: 막대 중앙\n",
    "        count - 15,  # y 좌표: 막대 위 약간 위\n",
    "        str(count),  # 텍스트로 개수 표시\n",
    "        ha=\"center\",  # 텍스트 정렬\n",
    "        # va=\"bottom\",  # 텍스트 정렬\n",
    "    )"
   ]
  },
  {
   "cell_type": "code",
   "execution_count": 382,
   "metadata": {},
   "outputs": [
    {
     "data": {
      "image/png": "[encoded data removed]",
      "text/plain": [
       "<Figure size 640x480 with 1 Axes>"
      ]
     },
     "metadata": {},
     "output_type": "display_data"
    }
   ],
   "source": [
    "grh=sns.barplot(\n",
    "    x=korean_df[\"시험 준비여부\"],\n",
    "    y=korean_df[\"수학\"].min()\n",
    ")\n",
    "for bar in grh.patches:\n",
    "    count = int(bar.get_height())\n",
    "    if str(count) == \"0\":\n",
    "        continue  # 막대의 높이 = 개수\n",
    "    grh.text(\n",
    "        bar.get_x() + bar.get_width() / 2,  # x 좌표: 막대 중앙\n",
    "        count - 15,  # y 좌표: 막대 위 약간 위\n",
    "        str(count),  # 텍스트로 개수 표시\n",
    "        ha=\"center\",  # 텍스트 정렬\n",
    "        # va=\"bottom\",  # 텍스트 정렬\n",
    "    )"
   ]
  },
  {
   "cell_type": "code",
   "execution_count": 399,
   "metadata": {},
   "outputs": [
    {
     "data": {
      "image/png": "[encoded data removed]",
      "text/plain": [
       "<Figure size 640x480 with 1 Axes>"
      ]
     },
     "metadata": {},
     "output_type": "display_data"
    }
   ],
   "source": [
    "plt.ylim([0, 100])\n",
    "grh=sns.barplot(\n",
    "    x=korean_df[\"시험 준비여부\"],\n",
    "    y=korean_df[\"수학\"]\n",
    ")\n",
    "for bar in grh.patches:\n",
    "    count = int(bar.get_height())\n",
    "    if str(count) == \"0\":\n",
    "        continue  # 막대의 높이 = 개수\n",
    "    grh.text(\n",
    "        bar.get_x() + bar.get_width() / 2,  # x 좌표: 막대 중앙\n",
    "        count - 15,  # y 좌표: 막대 위 약간 위\n",
    "        str(count),  # 텍스트로 개수 표시\n",
    "        ha=\"center\",  # 텍스트 정렬\n",
    "        # va=\"bottom\",  # 텍스트 정렬\n",
    "    )"
   ]
  },
  {
   "cell_type": "code",
   "execution_count": 400,
   "metadata": {},
   "outputs": [
    {
     "data": {
      "image/png": "[encoded data removed]",
      "text/plain": [
       "<Figure size 640x480 with 1 Axes>"
      ]
     },
     "metadata": {},
     "output_type": "display_data"
    }
   ],
   "source": [
    "plt.ylim([0, 100])\n",
    "\n",
    "grh=sns.barplot(\n",
    "    x=korean_df[\"시험 준비여부\"],\n",
    "    y=korean_df[\"읽기\"]\n",
    ")\n",
    "for bar in grh.patches:\n",
    "    count = int(bar.get_height())\n",
    "    if str(count) == \"0\":\n",
    "        continue  # 막대의 높이 = 개수\n",
    "    grh.text(\n",
    "        bar.get_x() + bar.get_width() / 2,  # x 좌표: 막대 중앙\n",
    "        count - 15,  # y 좌표: 막대 위 약간 위\n",
    "        str(count),  # 텍스트로 개수 표시\n",
    "        ha=\"center\",  # 텍스트 정렬\n",
    "        # va=\"bottom\",  # 텍스트 정렬\n",
    "    )"
   ]
  },
  {
   "cell_type": "code",
   "execution_count": 401,
   "metadata": {},
   "outputs": [
    {
     "data": {
      "image/png": "[encoded data removed]",
      "text/plain": [
       "<Figure size 640x480 with 1 Axes>"
      ]
     },
     "metadata": {},
     "output_type": "display_data"
    }
   ],
   "source": [
    "plt.ylim([0, 100])\n",
    "\n",
    "grh=sns.barplot(\n",
    "    x=korean_df[\"시험 준비여부\"],\n",
    "    y=korean_df[\"쓰기\"]\n",
    ")\n",
    "for bar in grh.patches:\n",
    "    count = int(bar.get_height())\n",
    "    if str(count) == \"0\":\n",
    "        continue  # 막대의 높이 = 개수\n",
    "    grh.text(\n",
    "        bar.get_x() + bar.get_width() / 2,  # x 좌표: 막대 중앙\n",
    "        count - 15,  # y 좌표: 막대 위 약간 위\n",
    "        str(count),  # 텍스트로 개수 표시\n",
    "        ha=\"center\",  # 텍스트 정렬\n",
    "        # va=\"bottom\",  # 텍스트 정렬\n",
    "    )"
   ]
  },
  {
   "cell_type": "code",
   "execution_count": 402,
   "metadata": {},
   "outputs": [
    {
     "data": {
      "image/png": "[encoded data removed]",
      "text/plain": [
       "<Figure size 640x480 with 1 Axes>"
      ]
     },
     "metadata": {},
     "output_type": "display_data"
    }
   ],
   "source": [
    "plt.ylim([0, 100])\n",
    "\n",
    "grh=sns.barplot(\n",
    "    x=korean_df[\"시험 준비여부\"],\n",
    "    y=korean_df[\"평균\"]\n",
    ")\n",
    "for bar in grh.patches:\n",
    "    count = int(bar.get_height())\n",
    "    if str(count) == \"0\":\n",
    "        continue  # 막대의 높이 = 개수\n",
    "    grh.text(\n",
    "        bar.get_x() + bar.get_width() / 2,  # x 좌표: 막대 중앙\n",
    "        count - 15,  # y 좌표: 막대 위 약간 위\n",
    "        str(count),  # 텍스트로 개수 표시\n",
    "        ha=\"center\",  # 텍스트 정렬\n",
    "        # va=\"bottom\",  # 텍스트 정렬\n",
    "    )"
   ]
  },
  {
   "cell_type": "code",
   "execution_count": null,
   "metadata": {},
   "outputs": [],
   "source": [
    "plt.figure(figsize=[8, 6])\n",
    "\n",
    "grh = sns.barplot(\n",
    "    data= df, x=df[\"부모의 최종학력\"], \n",
    "    y=df[\"평균\"],\n",
    "    hue=\"부모의 최종학력\",\n",
    "    order=[\"고등학교 재학\",\"고등학교 졸업\",\"대학교 재학\",\"전문대학 졸업\",\"석사\",\"학사\"]\n",
    ")\n",
    "\n",
    "plt.title(\"경제성 요인의 평균 점수 비교\")\n",
    "plt.ylim([0, 100])\n",
    "plt.show()"
   ]
  },
  {
   "cell_type": "code",
   "execution_count": 433,
   "metadata": {},
   "outputs": [
    {
     "data": {
      "image/png": "[encoded data removed]",
      "text/plain": [
       "<Figure size 800x600 with 1 Axes>"
      ]
     },
     "metadata": {},
     "output_type": "display_data"
    }
   ],
   "source": [
    "plt.figure(figsize=[8, 6])\n",
    "plt.title(\"성실성 요인의 평균 점수 비교\")\n",
    "plt.ylim([0, 100])\n",
    "sns.set_palette(\"Set2\")\n",
    "\n",
    "grh=sns.barplot(\n",
    "    x=k_df[\"시험 준비여부\"],\n",
    "    y=k_df[\"평균\"],\n",
    "    hue=k_df[\"시험 준비여부\"],\n",
    "    order=[\"Y\",\"N\"],\n",
    ")\n",
    "for bar in grh.patches:\n",
    "    count = int(bar.get_height())\n",
    "    if str(count) == \"0\":\n",
    "        continue  # 막대의 높이 = 개수\n",
    "    grh.text(\n",
    "        bar.get_x() + bar.get_width() / 2,  # x 좌표: 막대 중앙\n",
    "        count - 15,  # y 좌표: 막대 위 약간 위\n",
    "        str(count),  # 텍스트로 개수 표시\n",
    "        ha=\"center\",  # 텍스트 정렬\n",
    "        # va=\"bottom\",  # 텍스트 정렬\n",
    "    )\n",
    "plt.show()\n"
   ]
  },
  {
   "cell_type": "code",
   "execution_count": null,
   "metadata": {},
   "outputs": [],
   "source": []
  }
 ],
 "metadata": {
  "kernelspec": {
   "display_name": "Python 3",
   "language": "python",
   "name": "python3"
  },
  "language_info": {
   "codemirror_mode": {
    "name": "ipython",
    "version": 3
   },
   "file_extension": ".py",
   "mimetype": "text/x-python",
   "name": "python",
   "nbconvert_exporter": "python",
   "pygments_lexer": "ipython3",
   "version": "3.12.8"
  }
 },
 "nbformat": 4,
 "nbformat_minor": 2
}
