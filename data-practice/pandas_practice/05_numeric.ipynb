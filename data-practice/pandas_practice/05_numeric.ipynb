{
 "cells": [
  {
   "cell_type": "code",
   "execution_count": 48,
   "metadata": {},
   "outputs": [],
   "source": [
    "import pandas as pd"
   ]
  },
  {
   "cell_type": "code",
   "execution_count": 49,
   "metadata": {},
   "outputs": [],
   "source": [
    "movie_df = pd.read_csv(\"../data/movie_ratings.csv\")"
   ]
  },
  {
   "cell_type": "code",
   "execution_count": 54,
   "metadata": {},
   "outputs": [
    {
     "data": {
      "text/html": [
       "<div>\n",
       "<style scoped>\n",
       "    .dataframe tbody tr th:only-of-type {\n",
       "        vertical-align: middle;\n",
       "    }\n",
       "\n",
       "    .dataframe tbody tr th {\n",
       "        vertical-align: top;\n",
       "    }\n",
       "\n",
       "    .dataframe thead th {\n",
       "        text-align: right;\n",
       "    }\n",
       "</style>\n",
       "<table border=\"1\" class=\"dataframe\">\n",
       "  <thead>\n",
       "    <tr style=\"text-align: right;\">\n",
       "      <th></th>\n",
       "      <th>UserID</th>\n",
       "      <th>MovieID</th>\n",
       "      <th>Rating</th>\n",
       "      <th>Age</th>\n",
       "      <th>Occupation</th>\n",
       "      <th>Genre</th>\n",
       "    </tr>\n",
       "  </thead>\n",
       "  <tbody>\n",
       "    <tr>\n",
       "      <th>0</th>\n",
       "      <td>45</td>\n",
       "      <td>8</td>\n",
       "      <td>4</td>\n",
       "      <td>55</td>\n",
       "      <td>Unemployed</td>\n",
       "      <td>Horror</td>\n",
       "    </tr>\n",
       "    <tr>\n",
       "      <th>1</th>\n",
       "      <td>48</td>\n",
       "      <td>5</td>\n",
       "      <td>3</td>\n",
       "      <td>15</td>\n",
       "      <td>Engineer</td>\n",
       "      <td>Action</td>\n",
       "    </tr>\n",
       "    <tr>\n",
       "      <th>2</th>\n",
       "      <td>65</td>\n",
       "      <td>4</td>\n",
       "      <td>2</td>\n",
       "      <td>55</td>\n",
       "      <td>Student</td>\n",
       "      <td>Romance</td>\n",
       "    </tr>\n",
       "    <tr>\n",
       "      <th>3</th>\n",
       "      <td>68</td>\n",
       "      <td>6</td>\n",
       "      <td>5</td>\n",
       "      <td>45</td>\n",
       "      <td>Doctor</td>\n",
       "      <td>Comedy</td>\n",
       "    </tr>\n",
       "    <tr>\n",
       "      <th>4</th>\n",
       "      <td>68</td>\n",
       "      <td>7</td>\n",
       "      <td>4</td>\n",
       "      <td>25</td>\n",
       "      <td>Engineer</td>\n",
       "      <td>Romance</td>\n",
       "    </tr>\n",
       "  </tbody>\n",
       "</table>\n",
       "</div>"
      ],
      "text/plain": [
       "   UserID  MovieID  Rating  Age  Occupation    Genre\n",
       "0      45        8       4   55  Unemployed   Horror\n",
       "1      48        5       3   15    Engineer   Action\n",
       "2      65        4       2   55     Student  Romance\n",
       "3      68        6       5   45      Doctor   Comedy\n",
       "4      68        7       4   25    Engineer  Romance"
      ]
     },
     "execution_count": 54,
     "metadata": {},
     "output_type": "execute_result"
    }
   ],
   "source": [
    "# 리뷰 작성자 나이(Age)의 평균, 최소값, 최대값을 출력한다.\n",
    "movie_df[\"Age\"].mean()\n",
    "movie_df[\"Age\"].min()\n",
    "movie_df[\"Age\"].max()"
   ]
  },
  {
   "cell_type": "code",
   "execution_count": 51,
   "metadata": {},
   "outputs": [
    {
     "data": {
      "text/plain": [
       "np.float64(3.0)"
      ]
     },
     "execution_count": 51,
     "metadata": {},
     "output_type": "execute_result"
    }
   ],
   "source": [
    "# 평점(Rating)의 기술 통계량(개수, 평균, 표준편차, 최소값, 최대값, 사분위수)을 출력한다.\n",
    "movie_df[\"Rating\"].count()\n",
    "movie_df[\"Rating\"].mean()\n",
    "movie_df[\"Rating\"].std()\n",
    "movie_df[\"Rating\"].min()\n",
    "movie_df[\"Rating\"].max()\n",
    "movie_df[\"Rating\"].quantile()\n"
   ]
  },
  {
   "cell_type": "code",
   "execution_count": 61,
   "metadata": {},
   "outputs": [
    {
     "name": "stdout",
     "output_type": "stream",
     "text": [
      "6\n"
     ]
    },
    {
     "data": {
      "text/plain": [
       "40"
      ]
     },
     "execution_count": 61,
     "metadata": {},
     "output_type": "execute_result"
    }
   ],
   "source": [
    "# 리뷰가 가장 많은 영화 ID(MovieID)를 찾고, 해당 영화의 리뷰수를 출력한다.\n",
    "movie_id = movie_df[\"MovieID\"].mode()[0]\n",
    "mode_movie_id = movie_df.mode()[\"MovieID\"][0]\n",
    "print(movie_id)\n",
    "# 가장 많은 영화 ID만 선택\n",
    "condition = movie_df[\"MovieID\"] == mode_movie_id\n",
    "\n",
    "#데이터프레임 행의 수\n",
    "# len(movie_df.loc[condition])\n",
    "\n",
    "movie_df.loc[condition].shape[0]"
   ]
  },
  {
   "cell_type": "code",
   "execution_count": 63,
   "metadata": {},
   "outputs": [],
   "source": [
    "mpg_df = pd.read_csv(\"../data/auto-mpg.csv\")"
   ]
  },
  {
   "cell_type": "code",
   "execution_count": 74,
   "metadata": {},
   "outputs": [
    {
     "name": "stdout",
     "output_type": "stream",
     "text": [
      "70 17.689655172413794\n",
      "71 21.25\n",
      "72 18.714285714285715\n",
      "73 17.1\n",
      "74 22.703703703703702\n",
      "75 20.266666666666666\n",
      "76 21.573529411764707\n",
      "77 23.375\n",
      "78 24.061111111111114\n",
      "79 25.09310344827585\n"
     ]
    }
   ],
   "source": [
    "# 70 ~ 79년도(model year)의 자동차 연비(mpg) 평균을 출력한다.\n",
    "\n",
    "#연비 평균\n",
    "# mpg_df[\"mpg\"].mean()\n",
    "\n",
    "for year in range(70,80):\n",
    "    condition = mpg_df[\"model year\"] == year\n",
    "    year_mpg_df = mpg_df.loc[condition]\n",
    "\n",
    "    print(year, year_mpg_df[\"mpg\"].mean())\n"
   ]
  },
  {
   "cell_type": "code",
   "execution_count": 85,
   "metadata": {},
   "outputs": [
    {
     "data": {
      "text/plain": [
       "np.float64(27.542)"
      ]
     },
     "execution_count": 85,
     "metadata": {},
     "output_type": "execute_result"
    }
   ],
   "source": [
    "# 평균 마력(horsepower)보다 작은 자동차들의 연비(mpg) 평균을 출력한다.\n",
    "horsepower_mean = mpg_df[\"horsepower\"].mean()\n",
    "condition = mpg_df[\"horsepower\"] < horsepower_mean\n",
    "mpg_df.loc[condition, \"mpg\"].mean()"
   ]
  },
  {
   "cell_type": "code",
   "execution_count": 83,
   "metadata": {},
   "outputs": [
    {
     "data": {
      "text/plain": [
       "np.float64(16.71148648648649)"
      ]
     },
     "execution_count": 83,
     "metadata": {},
     "output_type": "execute_result"
    }
   ],
   "source": [
    "# 평균 마력(horsepower)보다 큰 자동차들의 연비(mpg)평균을 출력한다.\n",
    "horsepower_mean = mpg_df[\"horsepower\"].mean()\n",
    "condition = mpg_df[\"horsepower\"] > horsepower_mean\n",
    "mpg_df.loc[condition, \"mpg\"].mean()"
   ]
  },
  {
   "cell_type": "code",
   "execution_count": 91,
   "metadata": {},
   "outputs": [
    {
     "name": "stdout",
     "output_type": "stream",
     "text": [
      "5140 1613\n"
     ]
    },
    {
     "data": {
      "text/plain": [
       "54    35.0\n",
       "Name: mpg, dtype: float64"
      ]
     },
     "execution_count": 91,
     "metadata": {},
     "output_type": "execute_result"
    }
   ],
   "source": [
    "# 무게(wiehgt)가 가장 무거운 차와 가장 가벼운 차의 연비를 출력한다.\n",
    "max_weight = mpg_df[\"weight\"].max()\n",
    "min_weight = mpg_df[\"weight\"].min()\n",
    "print(max_weight,min_weight)\n",
    "\n",
    "# 데이터 선택\n",
    "# 1. 조건식(condition)\n",
    "# condition = 비교할 열, 비교 연산자, 비교 값\n",
    "\n",
    "# 가장 무거운 차를 찾는 비교식\n",
    "condition1 = mpg_df[\"weight\"] == max_weight\n",
    "# 가장 가벼운 차를 찾는 비교식\n",
    "condition2 = mpg_df[\"weight\"] == min_weight\n",
    "\n",
    "# 2. .loc[] 사용\n",
    "# .loc[행,열]\n",
    "# .loc[조건식, 보고 싶은 열]\n",
    "mpg_df.loc[condition1, \"mpg\"]\n",
    "\n",
    "mpg_df.loc[condition2, \"mpg\"]\n"
   ]
  }
 ],
 "metadata": {
  "kernelspec": {
   "display_name": "Python 3",
   "language": "python",
   "name": "python3"
  },
  "language_info": {
   "codemirror_mode": {
    "name": "ipython",
    "version": 3
   },
   "file_extension": ".py",
   "mimetype": "text/x-python",
   "name": "python",
   "nbconvert_exporter": "python",
   "pygments_lexer": "ipython3",
   "version": "3.12.8"
  }
 },
 "nbformat": 4,
 "nbformat_minor": 2
}
