{
 "cells": [
  {
   "cell_type": "code",
   "execution_count": 24,
   "metadata": {},
   "outputs": [
    {
     "name": "stdout",
     "output_type": "stream",
     "text": [
      "     Brand     Model  Release\n",
      "0    Apple  iphone15     True\n",
      "1  Samsung  Galaxy24     True\n",
      "2    Apple  iphone16    False\n",
      "3   Xiaomi   Redme15     True\n",
      "4  Samsung  Galaxy23     True\n",
      "5   Xiaomi   Redme14     True\n",
      "6  Samsung  Galaxy25    False\n"
     ]
    }
   ],
   "source": [
    "import pandas as pd\n",
    "\n",
    "# 범주형 / 명목형 데이터\n",
    "data = {\n",
    "    \"Brand\": [\n",
    "        \"Apple\",\n",
    "        \"Samsung\",\n",
    "        \"Apple\",\n",
    "        \"Xiaomi\",\n",
    "        \"Samsung\",\n",
    "        \"Xiaomi\",\n",
    "        \"Samsung\",\n",
    "    ],\n",
    "    \"Model\": [\n",
    "        \"iphone15\",\n",
    "        \"Galaxy24\",\n",
    "        \"iphone16\",\n",
    "        \"Redme15\",\n",
    "        \"Galaxy23\",\n",
    "        \"Redme14\",\n",
    "        \"Galaxy25\",\n",
    "    ],\n",
    "    \"Release\": [\n",
    "        True,\n",
    "        True,\n",
    "        False,\n",
    "        True,\n",
    "        True,\n",
    "        True,\n",
    "        False,\n",
    "    ],\n",
    "}\n",
    "df = pd.DataFrame(data)\n",
    "\n",
    "print(df)"
   ]
  },
  {
   "cell_type": "code",
   "execution_count": 25,
   "metadata": {},
   "outputs": [
    {
     "data": {
      "text/plain": [
       "array(['Apple', 'Samsung', 'Xiaomi'], dtype=object)"
      ]
     },
     "execution_count": 25,
     "metadata": {},
     "output_type": "execute_result"
    }
   ],
   "source": [
    "# 브랜드열(시리즈객체)의 고유값\n",
    "df[\"Brand\"].unique()"
   ]
  },
  {
   "cell_type": "code",
   "execution_count": 26,
   "metadata": {},
   "outputs": [
    {
     "data": {
      "text/plain": [
       "Brand      3\n",
       "Model      7\n",
       "Release    2\n",
       "dtype: int64"
      ]
     },
     "execution_count": 26,
     "metadata": {},
     "output_type": "execute_result"
    }
   ],
   "source": [
    "# 모든 열의 고유값 갯수\n",
    "# 데이터 프레임에 적용\n",
    "df.nunique()"
   ]
  },
  {
   "cell_type": "code",
   "execution_count": 27,
   "metadata": {},
   "outputs": [
    {
     "data": {
      "text/plain": [
       "Model\n",
       "iphone15    1\n",
       "Galaxy24    1\n",
       "iphone16    1\n",
       "Redme15     1\n",
       "Galaxy23    1\n",
       "Redme14     1\n",
       "Galaxy25    1\n",
       "Name: count, dtype: int64"
      ]
     },
     "execution_count": 27,
     "metadata": {},
     "output_type": "execute_result"
    }
   ],
   "source": [
    "# 개별 고유값의 개수\n",
    "# 열에만 적용할 수 있으\n",
    "df[\"Model\"].value_counts()"
   ]
  },
  {
   "cell_type": "code",
   "execution_count": 28,
   "metadata": {},
   "outputs": [
    {
     "data": {
      "text/plain": [
       "Brand\n",
       "Samsung    0.428571\n",
       "Apple      0.285714\n",
       "Xiaomi     0.285714\n",
       "Name: proportion, dtype: float64"
      ]
     },
     "execution_count": 28,
     "metadata": {},
     "output_type": "execute_result"
    }
   ],
   "source": [
    "# 개별 고유값의 비중\n",
    "# value_counts()의\n",
    "# normalize 인자\n",
    "df[\"Brand\"].value_counts(normalize=True)"
   ]
  },
  {
   "cell_type": "code",
   "execution_count": 29,
   "metadata": {},
   "outputs": [],
   "source": [
    "import pandas as pd\n",
    "\n",
    "df = pd.DataFrame(\n",
    "    {\n",
    "        \"등급\": [\n",
    "            \"하\",\n",
    "            \"중\",\n",
    "            \"상\",\n",
    "            \"하\",\n",
    "            \"상\",\n",
    "            \"중\",\n",
    "            \"하\",\n",
    "        ]\n",
    "    }\n",
    ")\n",
    "\n",
    "df_categorical = pd.DataFrame(df[\"등급\"])\n",
    "\n",
    "# 사용자 정의 범주 리스트\n",
    "# 리스트 값 순서대로 범주형 데이터의 순서가 정해진다.\n",
    "# 현재 순서는 하 < 중 < 상\n",
    "grade_order = [\"하\", \"중\", \"상\"]\n",
    "\n",
    "df_categorical[\"등급\"] = pd.Categorical(\n",
    "    # 범주형 데이터 타입으로 변환 할 열\n",
    "    values=df_categorical[\"등급\"],\n",
    "    # 범주형 데이터 간 순서 부여\n",
    "    categories=grade_order,\n",
    "    # 범주 데이터 간 크기 비교 가능\n",
    "    ordered=True,\n",
    ")"
   ]
  },
  {
   "cell_type": "code",
   "execution_count": 38,
   "metadata": {},
   "outputs": [
    {
     "data": {
      "text/plain": [
       "0    하\n",
       "1    중\n",
       "2    상\n",
       "3    하\n",
       "4    상\n",
       "5    중\n",
       "6    하\n",
       "Name: 등급, dtype: object"
      ]
     },
     "execution_count": 38,
     "metadata": {},
     "output_type": "execute_result"
    }
   ],
   "source": [
    "df = pd.DataFrame(\n",
    "    {\n",
    "        \"등급\": [\n",
    "            \"하\",\n",
    "            \"중\",\n",
    "            \"상\",\n",
    "            \"하\",\n",
    "            \"상\",\n",
    "            \"중\",\n",
    "            \"하\",\n",
    "        ]\n",
    "    }\n",
    ")\n",
    "\n",
    "# df_categorical = pd.DataFrame(df[\"등급\"])\n",
    "# df\n",
    "# df[\"등급\"]\n",
    "# df_categorical\n",
    "# df_categorical[\"등급\"]"
   ]
  },
  {
   "cell_type": "code",
   "execution_count": 43,
   "metadata": {},
   "outputs": [
    {
     "data": {
      "text/html": [
       "<div>\n",
       "<style scoped>\n",
       "    .dataframe tbody tr th:only-of-type {\n",
       "        vertical-align: middle;\n",
       "    }\n",
       "\n",
       "    .dataframe tbody tr th {\n",
       "        vertical-align: top;\n",
       "    }\n",
       "\n",
       "    .dataframe thead th {\n",
       "        text-align: right;\n",
       "    }\n",
       "</style>\n",
       "<table border=\"1\" class=\"dataframe\">\n",
       "  <thead>\n",
       "    <tr style=\"text-align: right;\">\n",
       "      <th></th>\n",
       "      <th>등급</th>\n",
       "    </tr>\n",
       "  </thead>\n",
       "  <tbody>\n",
       "    <tr>\n",
       "      <th>2</th>\n",
       "      <td>상</td>\n",
       "    </tr>\n",
       "    <tr>\n",
       "      <th>4</th>\n",
       "      <td>상</td>\n",
       "    </tr>\n",
       "    <tr>\n",
       "      <th>1</th>\n",
       "      <td>중</td>\n",
       "    </tr>\n",
       "    <tr>\n",
       "      <th>5</th>\n",
       "      <td>중</td>\n",
       "    </tr>\n",
       "    <tr>\n",
       "      <th>0</th>\n",
       "      <td>하</td>\n",
       "    </tr>\n",
       "    <tr>\n",
       "      <th>3</th>\n",
       "      <td>하</td>\n",
       "    </tr>\n",
       "    <tr>\n",
       "      <th>6</th>\n",
       "      <td>하</td>\n",
       "    </tr>\n",
       "  </tbody>\n",
       "</table>\n",
       "</div>"
      ],
      "text/plain": [
       "  등급\n",
       "2  상\n",
       "4  상\n",
       "1  중\n",
       "5  중\n",
       "0  하\n",
       "3  하\n",
       "6  하"
      ]
     },
     "execution_count": 43,
     "metadata": {},
     "output_type": "execute_result"
    }
   ],
   "source": [
    "df.sort_values(by=\"등급\")\n",
    "# df.sort_values(by=\"등급2\")"
   ]
  },
  {
   "cell_type": "code",
   "execution_count": 31,
   "metadata": {},
   "outputs": [
    {
     "data": {
      "text/html": [
       "<div>\n",
       "<style scoped>\n",
       "    .dataframe tbody tr th:only-of-type {\n",
       "        vertical-align: middle;\n",
       "    }\n",
       "\n",
       "    .dataframe tbody tr th {\n",
       "        vertical-align: top;\n",
       "    }\n",
       "\n",
       "    .dataframe thead th {\n",
       "        text-align: right;\n",
       "    }\n",
       "</style>\n",
       "<table border=\"1\" class=\"dataframe\">\n",
       "  <thead>\n",
       "    <tr style=\"text-align: right;\">\n",
       "      <th></th>\n",
       "      <th>등급</th>\n",
       "    </tr>\n",
       "  </thead>\n",
       "  <tbody>\n",
       "    <tr>\n",
       "      <th>0</th>\n",
       "      <td>하</td>\n",
       "    </tr>\n",
       "    <tr>\n",
       "      <th>1</th>\n",
       "      <td>중</td>\n",
       "    </tr>\n",
       "    <tr>\n",
       "      <th>3</th>\n",
       "      <td>하</td>\n",
       "    </tr>\n",
       "    <tr>\n",
       "      <th>5</th>\n",
       "      <td>중</td>\n",
       "    </tr>\n",
       "    <tr>\n",
       "      <th>6</th>\n",
       "      <td>하</td>\n",
       "    </tr>\n",
       "  </tbody>\n",
       "</table>\n",
       "</div>"
      ],
      "text/plain": [
       "  등급\n",
       "0  하\n",
       "1  중\n",
       "3  하\n",
       "5  중\n",
       "6  하"
      ]
     },
     "execution_count": 31,
     "metadata": {},
     "output_type": "execute_result"
    }
   ],
   "source": [
    "df_categorical[\"등급\"] = pd.Categorical(\n",
    "    values=df_categorical[\"등급\"],\n",
    "    categories=grade_order,\n",
    "    ordered=True,\n",
    ")\n",
    "\n",
    "# ordered=True의 경우\n",
    "# 크기 비교를 통한 필터링이 가능한다.\n",
    "condition = df_categorical[\"등급\"] <= \"중\"\n",
    "df.loc[condition]"
   ]
  },
  {
   "cell_type": "code",
   "execution_count": 41,
   "metadata": {},
   "outputs": [],
   "source": [
    "# df_categorical[\"등급\"] = pd.Categorical(\n",
    "#     values=df_categorical[\"등급\"],\n",
    "#     categories=grade_order,\n",
    "#     ordered=False,\n",
    "# )\n",
    "\n",
    "# # ordered=False의 경우\n",
    "# # 크기 비교를 통한 필터링이 불가능한다.\n",
    "# condition = df_categorical[\"등급\"]   <= \"중\"\n",
    "# df.loc[condition]"
   ]
  }
 ],
 "metadata": {
  "kernelspec": {
   "display_name": "Python 3",
   "language": "python",
   "name": "python3"
  },
  "language_info": {
   "codemirror_mode": {
    "name": "ipython",
    "version": 3
   },
   "file_extension": ".py",
   "mimetype": "text/x-python",
   "name": "python",
   "nbconvert_exporter": "python",
   "pygments_lexer": "ipython3",
   "version": "3.12.8"
  }
 },
 "nbformat": 4,
 "nbformat_minor": 2
}
