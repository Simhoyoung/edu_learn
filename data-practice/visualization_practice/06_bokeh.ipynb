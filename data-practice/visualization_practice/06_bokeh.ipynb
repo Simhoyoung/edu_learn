{
 "cells": [
  {
   "cell_type": "code",
   "execution_count": null,
   "metadata": {},
   "outputs": [],
   "source": [
    "#%pip install bokeh"
   ]
  },
  {
   "cell_type": "code",
   "execution_count": 2,
   "metadata": {},
   "outputs": [],
   "source": [
    "from bokeh.plotting import figure, show, output_file\n",
    "from bokeh.models import ColumnDataSource\n",
    "import seaborn as sns\n",
    "\n",
    "iris_df = sns.load_dataset(\"iris\")\n",
    "\n",
    "# 그래프로 그릴 데이터소스 생성\n",
    "# 판다스의 데이터프레임을 Bokeh 데이터 프레임으로 변환\n",
    "datasource = ColumnDataSource(iris_df)\n",
    "# datasource.data\n",
    "\n",
    "# Figuere 생성\n",
    "# tool로 hover\n",
    "p = figure(title=\"산점도\", tools=\"hover\")\n",
    "\n",
    "# Figure에 산점도 그리기\n",
    "p.scatter(\n",
    "    source=datasource,\n",
    "    x=\"sepal_length\",\n",
    "    y=\"sepal_width\",\n",
    ")\n",
    "\n",
    "# HTML 생성 설정\n",
    "output_file(\"scatter.html\")\n",
    "show(p)"
   ]
  },
  {
   "cell_type": "code",
   "execution_count": 34,
   "metadata": {},
   "outputs": [],
   "source": [
    "from bokeh.plotting import figure, show, output_file\n",
    "from bokeh.models import ColumnDataSource\n",
    " \n",
    "source = ColumnDataSource(data={\"x\": [1, 2, 3, 4], \"y\": [6, 7, 2, 4]})\n",
    "\n",
    "p = figure(title=\"선 그래프\", x_axis_label=\"x\", y_axis_label=\"y\")\n",
    "p.line(\"x\", \"y\", source=source, line_width=2, color=\"blue\")\n",
    "\n",
    "\n",
    "output_file(\"line.html\")\n",
    "show(p)"
   ]
  },
  {
   "cell_type": "code",
   "execution_count": 35,
   "metadata": {},
   "outputs": [],
   "source": [
    "from bokeh.plotting import figure, show, output_file\n",
    "from bokeh.models import ColumnDataSource\n",
    "\n",
    "source = ColumnDataSource(data={\"x\": [1, 2, 3, 4], \"y\": [4, 7, 6, 5]})\n",
    "\n",
    "p = figure(title=\"산점도\", x_axis_label=\"x\", y_axis_label=\"y\")\n",
    "p.scatter(\"x\", \"y\", source=source, size=12, marker=\"circle\", color=\"green\")\n",
    "\n",
    "output_file(\"scatter.html\")\n",
    "show(p)"
   ]
  },
  {
   "cell_type": "code",
   "execution_count": 4,
   "metadata": {},
   "outputs": [],
   "source": [
    "from bokeh.plotting import figure, show, output_file\n",
    "from bokeh.models import ColumnDataSource\n",
    "\n",
    "source = ColumnDataSource(data={\"x\": [1, 2, 3, 4], \"y\": [4, 7, 6, 5]})\n",
    "\n",
    "p = figure(title=\"삼각형 산점도\", x_axis_label=\"x\", y_axis_label=\"y\")\n",
    "p.scatter(\"x\", \"y\", source=source, size=12, marker=\"triangle\", color=\"purple\")\n",
    "\n",
    "output_file(\"scatter3.html\")\n",
    "show(p)"
   ]
  }
 ],
 "metadata": {
  "kernelspec": {
   "display_name": "Python 3",
   "language": "python",
   "name": "python3"
  },
  "language_info": {
   "codemirror_mode": {
    "name": "ipython",
    "version": 3
   },
   "file_extension": ".py",
   "mimetype": "text/x-python",
   "name": "python",
   "nbconvert_exporter": "python",
   "pygments_lexer": "ipython3",
   "version": "3.12.8"
  }
 },
 "nbformat": 4,
 "nbformat_minor": 2
}
