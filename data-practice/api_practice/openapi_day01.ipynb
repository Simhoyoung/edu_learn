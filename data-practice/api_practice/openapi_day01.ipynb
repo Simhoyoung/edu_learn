{
 "cells": [
  {
   "cell_type": "code",
   "execution_count": null,
   "metadata": {},
   "outputs": [],
   "source": [
    "# requests 라이브러리 불러오기\n",
    "import requests\n",
    "\n",
    "# 오픈 API Key\n",
    "serviceKey = \"ET+3wWGAkaXNNboJcj780MPyaOj+YTGC8qDEASKdCMILG76Z7Ulw43lhrVR3kSQKkUcmLrGNWimwMf4hqzDlrA==\"\n",
    "\n",
    "# API url = base_url + endpoint\n",
    "base_url = \"http://apis.data.go.kr/B552584/ArpltnInforInqireSvc\"\n",
    "endpoint = \"/getMinuDustWeekFrcstDspth\"\n",
    "\n",
    "# 요청 url 조합\n",
    "request_url = base_url + endpoint\n",
    "\n",
    "# 언제, 어디서\n",
    "searchDate = \"2024-12-16\"\n",
    "# sidoName = \n",
    "\n",
    "# 응답 데이터 형식 관련된 요청 변수\n",
    "pageNo = 1\n",
    "numOfRows = 100\n",
    "returnType = \"json\"  # 응답 데이터의 포맷(형태)\n",
    "\n",
    "params = {\n",
    "    \"serviceKey\": serviceKey,\n",
    "    \"numOfRows\": numOfRows,\n",
    "    \"pageNo\": pageNo,\n",
    "    \"returnType\": returnType,\n",
    "    \"searchDate\": searchDate,\n",
    "}\n",
    "\n",
    "# API 요청\n",
    "response = requests.get(request_url, params=params)\n",
    "print(response)\n",
    "from pprint import pprint\n",
    "\n",
    "response_python = response.json()\n",
    "pprint(response_python)"
   ]
  },
  {
   "cell_type": "code",
   "execution_count": 22,
   "metadata": {},
   "outputs": [
    {
     "name": "stdout",
     "output_type": "stream",
     "text": [
      "[{'frcstFourCn': '서울 : 낮음, 인천 : 낮음, 경기북부 : 낮음, 경기남부 : 낮음, 강원영서 : 낮음, 강원영동 : '\n",
      "                 '낮음, 대전 : 낮음, 세종 : 낮음, 충남 : 낮음, 충북 : 낮음, 광주 : 낮음, 전북 : 낮음, 전남 '\n",
      "                 ': 낮음, 부산 : 낮음, 대구 : 낮음, 울산 : 낮음, 경북 : 낮음, 경남 : 낮음, 제주 : 낮음, '\n",
      "                 '신뢰도 : 높음',\n",
      "  'frcstFourDt': '2024-12-22',\n",
      "  'frcstOneCn': '서울 : 낮음, 인천 : 낮음, 경기북부 : 낮음, 경기남부 : 낮음, 강원영서 : 낮음, 강원영동 : 낮음, '\n",
      "                '대전 : 낮음, 세종 : 낮음, 충남 : 낮음, 충북 : 낮음, 광주 : 낮음, 전북 : 낮음, 전남 : '\n",
      "                '낮음, 부산 : 낮음, 대구 : 낮음, 울산 : 낮음, 경북 : 낮음, 경남 : 낮음, 제주 : 낮음, 신뢰도 '\n",
      "                ': 높음',\n",
      "  'frcstOneDt': '2024-12-19',\n",
      "  'frcstThreeCn': '서울 : 낮음, 인천 : 낮음, 경기북부 : 낮음, 경기남부 : 낮음, 강원영서 : 높음, 강원영동 : '\n",
      "                  '낮음, 대전 : 낮음, 세종 : 낮음, 충남 : 낮음, 충북 : 높음, 광주 : 낮음, 전북 : 낮음, '\n",
      "                  '전남 : 낮음, 부산 : 낮음, 대구 : 낮음, 울산 : 낮음, 경북 : 낮음, 경남 : 낮음, 제주 : '\n",
      "                  '낮음, 신뢰도 : 보통',\n",
      "  'frcstThreeDt': '2024-12-21',\n",
      "  'frcstTwoCn': '서울 : 높음, 인천 : 높음, 경기북부 : 낮음, 경기남부 : 높음, 강원영서 : 낮음, 강원영동 : 낮음, '\n",
      "                '대전 : 낮음, 세종 : 높음, 충남 : 낮음, 충북 : 낮음, 광주 : 낮음, 전북 : 낮음, 전남 : '\n",
      "                '낮음, 부산 : 낮음, 대구 : 낮음, 울산 : 낮음, 경북 : 낮음, 경남 : 낮음, 제주 : 낮음, 신뢰도 '\n",
      "                ': 보통',\n",
      "  'frcstTwoDt': '2024-12-20',\n",
      "  'gwthcnd': \"[12월19일, 22일] 원활한 대기 확산과 강수의 영향(22일)으로 전 권역에서 초미세먼지 농도가 '낮음' 수준일 \"\n",
      "             '것으로 예상됩니다. [12월20일] 일부 중서부 지역을 중심으로 전일 잔류한 초미세먼지가 대기정체로 축적되고, 국외 '\n",
      "             \"미세먼지가 유입되어 서울·인천·경기남부·세종에서 초미세먼지 농도가'높음' 수준일 것으로 예상됩니다. [12월 \"\n",
      "             \"21일] 일부 내륙지역은 전일 잔류한 초미세먼지가 잔류하여 강원영서·충북에서 초미세먼지 농도가 '높음' 수준일 \"\n",
      "             '것으로 예상됩니다.',\n",
      "  'presnatnDt': '2024-12-16'}]\n"
     ]
    }
   ],
   "source": [
    "aa = response_python['response']['body']['items']\n",
    "pprint(aa)"
   ]
  }
 ],
 "metadata": {
  "kernelspec": {
   "display_name": "Python 3",
   "language": "python",
   "name": "python3"
  },
  "language_info": {
   "codemirror_mode": {
    "name": "ipython",
    "version": 3
   },
   "file_extension": ".py",
   "mimetype": "text/x-python",
   "name": "python",
   "nbconvert_exporter": "python",
   "pygments_lexer": "ipython3",
   "version": "3.12.8"
  }
 },
 "nbformat": 4,
 "nbformat_minor": 2
}
